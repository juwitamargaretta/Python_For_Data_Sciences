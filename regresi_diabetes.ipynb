{
  "cells": [
    {
      "cell_type": "markdown",
      "id": "c2a29158",
      "metadata": {
        "id": "c2a29158",
        "papermill": {
          "duration": 0.009576,
          "end_time": "2022-12-21T01:48:51.576507",
          "exception": false,
          "start_time": "2022-12-21T01:48:51.566931",
          "status": "completed"
        },
        "tags": []
      },
      "source": [
        "## **Tugas Besar Data Mining (A)**"
      ]
    },
    {
      "cell_type": "markdown",
      "id": "958cacec",
      "metadata": {
        "id": "958cacec",
        "papermill": {
          "duration": 0.008473,
          "end_time": "2022-12-21T01:48:51.610498",
          "exception": false,
          "start_time": "2022-12-21T01:48:51.602025",
          "status": "completed"
        },
        "tags": []
      },
      "source": [
        "# 1. Introduction"
      ]
    },
    {
      "cell_type": "markdown",
      "id": "566c389e",
      "metadata": {
        "id": "566c389e",
        "papermill": {
          "duration": 0.008383,
          "end_time": "2022-12-21T01:48:51.628638",
          "exception": false,
          "start_time": "2022-12-21T01:48:51.620255",
          "status": "completed"
        },
        "tags": []
      },
      "source": [
        "## a. Project Overview"
      ]
    },
    {
      "cell_type": "markdown",
      "id": "c5ef1b73",
      "metadata": {
        "id": "c5ef1b73",
        "papermill": {
          "duration": 0.009226,
          "end_time": "2022-12-21T01:48:51.647442",
          "exception": false,
          "start_time": "2022-12-21T01:48:51.638216",
          "status": "completed"
        },
        "tags": []
      },
      "source": [
        "1. Latar belakang\n",
        "\n",
        "Diabetes adalah kondisi di mana kandungan gula dalam darah melebihi normal dan cenderung tinggi. Diabetes mellitus merupakan salah satu penyakit metabolisme yang mampu menyerang siapa saja. Diabetes mellitus (atau kencing manis) adalah kondisi kronis dan berlangsung seumur hidup yang mempengaruhi kemampuan tubuh dalam menggunakan energi yang dari makanan. Ada dua jenis utama dari penyakit ini: Tipe 1 dan Tipe 2.\n",
        "\n",
        "Sebanyak 350 juta orang di seluruh dunia mengidap diabetes. Pada tahun 2004, sekitar 3-4 juta orang meninggal karena kadar gula darah yang tinggi. Lebih dari 80% kematian akibat penyakit DM terjadi di negara dengan tingkat penghasilan menengah dan rendah. WHO memperkirakan jumlah kematian akibat DM akan meningkat dua kali lipat selama periode 2005 – 2030.\n",
        "\n",
        "\n",
        "2. Data yang digunakan\n",
        "\n",
        "Kumpulan data ini berasal dari Institut Nasional Diabetes dan Pencernaan dan Ginjal Penyakit. Tujuan dari dataset ini adalah untuk mengetahui umur berapa yang rentan terjangkit diabetes, berdasarkan pengukuran diagnostic pada dataset tersebut. Beberapa kendala ditempatkan pada pemilihan sampel dari database yang lebih besar. Secara khusus, semua pasien di sini adalah perempuan dengan umur mulai 21 tahun dari Pima Indian heritage.2\n",
        "Dari kumpulan data pada File (.csv) kita dapat menemukan beberapa variabel, beberapa di antaranya adalah independent (beberapa dari variabel prediktor medis) dan hanya satu target variabel terikat (Hasil).\n",
        "\n",
        "\n",
        "3. Objective yang ingin dicapai\n",
        "\n",
        "Dalam penelitian ini kami memprediksi dari kumpulan data diabetes untuk mempresdiksi pada umur berapakah seseorang rentan terkena diabetes."
      ]
    },
    {
      "cell_type": "markdown",
      "id": "e9a95c65",
      "metadata": {
        "id": "e9a95c65",
        "papermill": {
          "duration": 0.00847,
          "end_time": "2022-12-21T01:48:51.664843",
          "exception": false,
          "start_time": "2022-12-21T01:48:51.656373",
          "status": "completed"
        },
        "tags": []
      },
      "source": [
        "Data ini memiliki 9 atribut.\n",
        "Attribute Information:\n",
        "1. Pregnancies: Untuk menyatakan Jumlah kehamilan\n",
        "2. Glucose: Untuk menyatakan kadar Glukosa dalam darah\n",
        "3. BloodPressure: Untuk menyatakan pengukuran tekanan darah\n",
        "4. SkinThickness: Untuk mengekspresikan ketebalan kulit\n",
        "5. Insulin: Untuk mengekspresikan tingkat Insulin dalam darah\n",
        "6. BMI: Untuk menyatakan indeks massa tubuh\n",
        "7. DiabetesPedigreeFunction: Untuk menyatakan persentase Diabetes\n",
        "8. Age: Untuk menyatakan umur\n",
        "9. Outcome: Untuk menyatakan hasil akhir 1 adalah Ya dan 0 adalah Tidak"
      ]
    },
    {
      "cell_type": "markdown",
      "id": "a0700247",
      "metadata": {
        "id": "a0700247",
        "papermill": {
          "duration": 0.008691,
          "end_time": "2022-12-21T01:48:51.682322",
          "exception": false,
          "start_time": "2022-12-21T01:48:51.673631",
          "status": "completed"
        },
        "tags": []
      },
      "source": [
        "# 2. Import Library"
      ]
    },
    {
      "cell_type": "code",
      "execution_count": 15,
      "id": "3a2e99d1",
      "metadata": {
        "execution": {
          "iopub.execute_input": "2022-12-21T01:48:51.703147Z",
          "iopub.status.busy": "2022-12-21T01:48:51.701758Z",
          "iopub.status.idle": "2022-12-21T01:48:53.418702Z",
          "shell.execute_reply": "2022-12-21T01:48:53.417530Z"
        },
        "id": "3a2e99d1",
        "papermill": {
          "duration": 1.72994,
          "end_time": "2022-12-21T01:48:53.421152",
          "exception": false,
          "start_time": "2022-12-21T01:48:51.691212",
          "status": "completed"
        },
        "tags": []
      },
      "outputs": [],
      "source": [
        "import numpy as nm\n",
        "import matplotlib.pyplot as mtp\n",
        "import pandas as pd\n",
        "import seaborn as sns\n",
        "import statsmodels.api as sm"
      ]
    },
    {
      "cell_type": "code",
      "source": [
        "data_set= pd.read_csv('diabetes1.csv')\n",
        "data_set"
      ],
      "metadata": {
        "colab": {
          "base_uri": "https://localhost:8080/",
          "height": 424
        },
        "id": "9jXYEtmQUAb5",
        "outputId": "1517ca4c-bff2-4b49-ad72-6b58651ab396"
      },
      "id": "9jXYEtmQUAb5",
      "execution_count": 36,
      "outputs": [
        {
          "output_type": "execute_result",
          "data": {
            "text/plain": [
              "     Pregnancies  Glucose  BloodPressure  SkinThickness  Insulin   BMI  \\\n",
              "0              6      148             72             35        0  33.6   \n",
              "1              1       85             66             29        0  26.6   \n",
              "2              8      183             64              0        0  23.3   \n",
              "3              1       89             66             23       94  28.1   \n",
              "4              0      137             40             35      168  43.1   \n",
              "..           ...      ...            ...            ...      ...   ...   \n",
              "763           10      101             76             48      180  32.9   \n",
              "764            2      122             70             27        0  36.8   \n",
              "765            5      121             72             23      112  26.2   \n",
              "766            1      126             60              0        0  30.1   \n",
              "767            1       93             70             31        0  30.4   \n",
              "\n",
              "     DiabetesPedigreeFunction  Age  Outcome  \n",
              "0                       0.627   50        1  \n",
              "1                       0.351   31        0  \n",
              "2                       0.672   32        1  \n",
              "3                       0.167   21        0  \n",
              "4                       2.288   33        1  \n",
              "..                        ...  ...      ...  \n",
              "763                     0.171   63        0  \n",
              "764                     0.340   27        0  \n",
              "765                     0.245   30        0  \n",
              "766                     0.349   47        1  \n",
              "767                     0.315   23        0  \n",
              "\n",
              "[768 rows x 9 columns]"
            ],
            "text/html": [
              "\n",
              "  <div id=\"df-72288b3f-1cce-49b4-973c-1e1ffa244e85\" class=\"colab-df-container\">\n",
              "    <div>\n",
              "<style scoped>\n",
              "    .dataframe tbody tr th:only-of-type {\n",
              "        vertical-align: middle;\n",
              "    }\n",
              "\n",
              "    .dataframe tbody tr th {\n",
              "        vertical-align: top;\n",
              "    }\n",
              "\n",
              "    .dataframe thead th {\n",
              "        text-align: right;\n",
              "    }\n",
              "</style>\n",
              "<table border=\"1\" class=\"dataframe\">\n",
              "  <thead>\n",
              "    <tr style=\"text-align: right;\">\n",
              "      <th></th>\n",
              "      <th>Pregnancies</th>\n",
              "      <th>Glucose</th>\n",
              "      <th>BloodPressure</th>\n",
              "      <th>SkinThickness</th>\n",
              "      <th>Insulin</th>\n",
              "      <th>BMI</th>\n",
              "      <th>DiabetesPedigreeFunction</th>\n",
              "      <th>Age</th>\n",
              "      <th>Outcome</th>\n",
              "    </tr>\n",
              "  </thead>\n",
              "  <tbody>\n",
              "    <tr>\n",
              "      <th>0</th>\n",
              "      <td>6</td>\n",
              "      <td>148</td>\n",
              "      <td>72</td>\n",
              "      <td>35</td>\n",
              "      <td>0</td>\n",
              "      <td>33.6</td>\n",
              "      <td>0.627</td>\n",
              "      <td>50</td>\n",
              "      <td>1</td>\n",
              "    </tr>\n",
              "    <tr>\n",
              "      <th>1</th>\n",
              "      <td>1</td>\n",
              "      <td>85</td>\n",
              "      <td>66</td>\n",
              "      <td>29</td>\n",
              "      <td>0</td>\n",
              "      <td>26.6</td>\n",
              "      <td>0.351</td>\n",
              "      <td>31</td>\n",
              "      <td>0</td>\n",
              "    </tr>\n",
              "    <tr>\n",
              "      <th>2</th>\n",
              "      <td>8</td>\n",
              "      <td>183</td>\n",
              "      <td>64</td>\n",
              "      <td>0</td>\n",
              "      <td>0</td>\n",
              "      <td>23.3</td>\n",
              "      <td>0.672</td>\n",
              "      <td>32</td>\n",
              "      <td>1</td>\n",
              "    </tr>\n",
              "    <tr>\n",
              "      <th>3</th>\n",
              "      <td>1</td>\n",
              "      <td>89</td>\n",
              "      <td>66</td>\n",
              "      <td>23</td>\n",
              "      <td>94</td>\n",
              "      <td>28.1</td>\n",
              "      <td>0.167</td>\n",
              "      <td>21</td>\n",
              "      <td>0</td>\n",
              "    </tr>\n",
              "    <tr>\n",
              "      <th>4</th>\n",
              "      <td>0</td>\n",
              "      <td>137</td>\n",
              "      <td>40</td>\n",
              "      <td>35</td>\n",
              "      <td>168</td>\n",
              "      <td>43.1</td>\n",
              "      <td>2.288</td>\n",
              "      <td>33</td>\n",
              "      <td>1</td>\n",
              "    </tr>\n",
              "    <tr>\n",
              "      <th>...</th>\n",
              "      <td>...</td>\n",
              "      <td>...</td>\n",
              "      <td>...</td>\n",
              "      <td>...</td>\n",
              "      <td>...</td>\n",
              "      <td>...</td>\n",
              "      <td>...</td>\n",
              "      <td>...</td>\n",
              "      <td>...</td>\n",
              "    </tr>\n",
              "    <tr>\n",
              "      <th>763</th>\n",
              "      <td>10</td>\n",
              "      <td>101</td>\n",
              "      <td>76</td>\n",
              "      <td>48</td>\n",
              "      <td>180</td>\n",
              "      <td>32.9</td>\n",
              "      <td>0.171</td>\n",
              "      <td>63</td>\n",
              "      <td>0</td>\n",
              "    </tr>\n",
              "    <tr>\n",
              "      <th>764</th>\n",
              "      <td>2</td>\n",
              "      <td>122</td>\n",
              "      <td>70</td>\n",
              "      <td>27</td>\n",
              "      <td>0</td>\n",
              "      <td>36.8</td>\n",
              "      <td>0.340</td>\n",
              "      <td>27</td>\n",
              "      <td>0</td>\n",
              "    </tr>\n",
              "    <tr>\n",
              "      <th>765</th>\n",
              "      <td>5</td>\n",
              "      <td>121</td>\n",
              "      <td>72</td>\n",
              "      <td>23</td>\n",
              "      <td>112</td>\n",
              "      <td>26.2</td>\n",
              "      <td>0.245</td>\n",
              "      <td>30</td>\n",
              "      <td>0</td>\n",
              "    </tr>\n",
              "    <tr>\n",
              "      <th>766</th>\n",
              "      <td>1</td>\n",
              "      <td>126</td>\n",
              "      <td>60</td>\n",
              "      <td>0</td>\n",
              "      <td>0</td>\n",
              "      <td>30.1</td>\n",
              "      <td>0.349</td>\n",
              "      <td>47</td>\n",
              "      <td>1</td>\n",
              "    </tr>\n",
              "    <tr>\n",
              "      <th>767</th>\n",
              "      <td>1</td>\n",
              "      <td>93</td>\n",
              "      <td>70</td>\n",
              "      <td>31</td>\n",
              "      <td>0</td>\n",
              "      <td>30.4</td>\n",
              "      <td>0.315</td>\n",
              "      <td>23</td>\n",
              "      <td>0</td>\n",
              "    </tr>\n",
              "  </tbody>\n",
              "</table>\n",
              "<p>768 rows × 9 columns</p>\n",
              "</div>\n",
              "    <div class=\"colab-df-buttons\">\n",
              "\n",
              "  <div class=\"colab-df-container\">\n",
              "    <button class=\"colab-df-convert\" onclick=\"convertToInteractive('df-72288b3f-1cce-49b4-973c-1e1ffa244e85')\"\n",
              "            title=\"Convert this dataframe to an interactive table.\"\n",
              "            style=\"display:none;\">\n",
              "\n",
              "  <svg xmlns=\"http://www.w3.org/2000/svg\" height=\"24px\" viewBox=\"0 -960 960 960\">\n",
              "    <path d=\"M120-120v-720h720v720H120Zm60-500h600v-160H180v160Zm220 220h160v-160H400v160Zm0 220h160v-160H400v160ZM180-400h160v-160H180v160Zm440 0h160v-160H620v160ZM180-180h160v-160H180v160Zm440 0h160v-160H620v160Z\"/>\n",
              "  </svg>\n",
              "    </button>\n",
              "\n",
              "  <style>\n",
              "    .colab-df-container {\n",
              "      display:flex;\n",
              "      gap: 12px;\n",
              "    }\n",
              "\n",
              "    .colab-df-convert {\n",
              "      background-color: #E8F0FE;\n",
              "      border: none;\n",
              "      border-radius: 50%;\n",
              "      cursor: pointer;\n",
              "      display: none;\n",
              "      fill: #1967D2;\n",
              "      height: 32px;\n",
              "      padding: 0 0 0 0;\n",
              "      width: 32px;\n",
              "    }\n",
              "\n",
              "    .colab-df-convert:hover {\n",
              "      background-color: #E2EBFA;\n",
              "      box-shadow: 0px 1px 2px rgba(60, 64, 67, 0.3), 0px 1px 3px 1px rgba(60, 64, 67, 0.15);\n",
              "      fill: #174EA6;\n",
              "    }\n",
              "\n",
              "    .colab-df-buttons div {\n",
              "      margin-bottom: 4px;\n",
              "    }\n",
              "\n",
              "    [theme=dark] .colab-df-convert {\n",
              "      background-color: #3B4455;\n",
              "      fill: #D2E3FC;\n",
              "    }\n",
              "\n",
              "    [theme=dark] .colab-df-convert:hover {\n",
              "      background-color: #434B5C;\n",
              "      box-shadow: 0px 1px 3px 1px rgba(0, 0, 0, 0.15);\n",
              "      filter: drop-shadow(0px 1px 2px rgba(0, 0, 0, 0.3));\n",
              "      fill: #FFFFFF;\n",
              "    }\n",
              "  </style>\n",
              "\n",
              "    <script>\n",
              "      const buttonEl =\n",
              "        document.querySelector('#df-72288b3f-1cce-49b4-973c-1e1ffa244e85 button.colab-df-convert');\n",
              "      buttonEl.style.display =\n",
              "        google.colab.kernel.accessAllowed ? 'block' : 'none';\n",
              "\n",
              "      async function convertToInteractive(key) {\n",
              "        const element = document.querySelector('#df-72288b3f-1cce-49b4-973c-1e1ffa244e85');\n",
              "        const dataTable =\n",
              "          await google.colab.kernel.invokeFunction('convertToInteractive',\n",
              "                                                    [key], {});\n",
              "        if (!dataTable) return;\n",
              "\n",
              "        const docLinkHtml = 'Like what you see? Visit the ' +\n",
              "          '<a target=\"_blank\" href=https://colab.research.google.com/notebooks/data_table.ipynb>data table notebook</a>'\n",
              "          + ' to learn more about interactive tables.';\n",
              "        element.innerHTML = '';\n",
              "        dataTable['output_type'] = 'display_data';\n",
              "        await google.colab.output.renderOutput(dataTable, element);\n",
              "        const docLink = document.createElement('div');\n",
              "        docLink.innerHTML = docLinkHtml;\n",
              "        element.appendChild(docLink);\n",
              "      }\n",
              "    </script>\n",
              "  </div>\n",
              "\n",
              "\n",
              "<div id=\"df-9521dc1c-da1e-480e-9118-90874d090376\">\n",
              "  <button class=\"colab-df-quickchart\" onclick=\"quickchart('df-9521dc1c-da1e-480e-9118-90874d090376')\"\n",
              "            title=\"Suggest charts\"\n",
              "            style=\"display:none;\">\n",
              "\n",
              "<svg xmlns=\"http://www.w3.org/2000/svg\" height=\"24px\"viewBox=\"0 0 24 24\"\n",
              "     width=\"24px\">\n",
              "    <g>\n",
              "        <path d=\"M19 3H5c-1.1 0-2 .9-2 2v14c0 1.1.9 2 2 2h14c1.1 0 2-.9 2-2V5c0-1.1-.9-2-2-2zM9 17H7v-7h2v7zm4 0h-2V7h2v10zm4 0h-2v-4h2v4z\"/>\n",
              "    </g>\n",
              "</svg>\n",
              "  </button>\n",
              "\n",
              "<style>\n",
              "  .colab-df-quickchart {\n",
              "      --bg-color: #E8F0FE;\n",
              "      --fill-color: #1967D2;\n",
              "      --hover-bg-color: #E2EBFA;\n",
              "      --hover-fill-color: #174EA6;\n",
              "      --disabled-fill-color: #AAA;\n",
              "      --disabled-bg-color: #DDD;\n",
              "  }\n",
              "\n",
              "  [theme=dark] .colab-df-quickchart {\n",
              "      --bg-color: #3B4455;\n",
              "      --fill-color: #D2E3FC;\n",
              "      --hover-bg-color: #434B5C;\n",
              "      --hover-fill-color: #FFFFFF;\n",
              "      --disabled-bg-color: #3B4455;\n",
              "      --disabled-fill-color: #666;\n",
              "  }\n",
              "\n",
              "  .colab-df-quickchart {\n",
              "    background-color: var(--bg-color);\n",
              "    border: none;\n",
              "    border-radius: 50%;\n",
              "    cursor: pointer;\n",
              "    display: none;\n",
              "    fill: var(--fill-color);\n",
              "    height: 32px;\n",
              "    padding: 0;\n",
              "    width: 32px;\n",
              "  }\n",
              "\n",
              "  .colab-df-quickchart:hover {\n",
              "    background-color: var(--hover-bg-color);\n",
              "    box-shadow: 0 1px 2px rgba(60, 64, 67, 0.3), 0 1px 3px 1px rgba(60, 64, 67, 0.15);\n",
              "    fill: var(--button-hover-fill-color);\n",
              "  }\n",
              "\n",
              "  .colab-df-quickchart-complete:disabled,\n",
              "  .colab-df-quickchart-complete:disabled:hover {\n",
              "    background-color: var(--disabled-bg-color);\n",
              "    fill: var(--disabled-fill-color);\n",
              "    box-shadow: none;\n",
              "  }\n",
              "\n",
              "  .colab-df-spinner {\n",
              "    border: 2px solid var(--fill-color);\n",
              "    border-color: transparent;\n",
              "    border-bottom-color: var(--fill-color);\n",
              "    animation:\n",
              "      spin 1s steps(1) infinite;\n",
              "  }\n",
              "\n",
              "  @keyframes spin {\n",
              "    0% {\n",
              "      border-color: transparent;\n",
              "      border-bottom-color: var(--fill-color);\n",
              "      border-left-color: var(--fill-color);\n",
              "    }\n",
              "    20% {\n",
              "      border-color: transparent;\n",
              "      border-left-color: var(--fill-color);\n",
              "      border-top-color: var(--fill-color);\n",
              "    }\n",
              "    30% {\n",
              "      border-color: transparent;\n",
              "      border-left-color: var(--fill-color);\n",
              "      border-top-color: var(--fill-color);\n",
              "      border-right-color: var(--fill-color);\n",
              "    }\n",
              "    40% {\n",
              "      border-color: transparent;\n",
              "      border-right-color: var(--fill-color);\n",
              "      border-top-color: var(--fill-color);\n",
              "    }\n",
              "    60% {\n",
              "      border-color: transparent;\n",
              "      border-right-color: var(--fill-color);\n",
              "    }\n",
              "    80% {\n",
              "      border-color: transparent;\n",
              "      border-right-color: var(--fill-color);\n",
              "      border-bottom-color: var(--fill-color);\n",
              "    }\n",
              "    90% {\n",
              "      border-color: transparent;\n",
              "      border-bottom-color: var(--fill-color);\n",
              "    }\n",
              "  }\n",
              "</style>\n",
              "\n",
              "  <script>\n",
              "    async function quickchart(key) {\n",
              "      const quickchartButtonEl =\n",
              "        document.querySelector('#' + key + ' button');\n",
              "      quickchartButtonEl.disabled = true;  // To prevent multiple clicks.\n",
              "      quickchartButtonEl.classList.add('colab-df-spinner');\n",
              "      try {\n",
              "        const charts = await google.colab.kernel.invokeFunction(\n",
              "            'suggestCharts', [key], {});\n",
              "      } catch (error) {\n",
              "        console.error('Error during call to suggestCharts:', error);\n",
              "      }\n",
              "      quickchartButtonEl.classList.remove('colab-df-spinner');\n",
              "      quickchartButtonEl.classList.add('colab-df-quickchart-complete');\n",
              "    }\n",
              "    (() => {\n",
              "      let quickchartButtonEl =\n",
              "        document.querySelector('#df-9521dc1c-da1e-480e-9118-90874d090376 button');\n",
              "      quickchartButtonEl.style.display =\n",
              "        google.colab.kernel.accessAllowed ? 'block' : 'none';\n",
              "    })();\n",
              "  </script>\n",
              "</div>\n",
              "    </div>\n",
              "  </div>\n"
            ],
            "application/vnd.google.colaboratory.intrinsic+json": {
              "type": "dataframe",
              "variable_name": "data_set",
              "summary": "{\n  \"name\": \"data_set\",\n  \"rows\": 768,\n  \"fields\": [\n    {\n      \"column\": \"Pregnancies\",\n      \"properties\": {\n        \"dtype\": \"number\",\n        \"std\": 3,\n        \"min\": 0,\n        \"max\": 17,\n        \"num_unique_values\": 17,\n        \"samples\": [\n          6,\n          1,\n          3\n        ],\n        \"semantic_type\": \"\",\n        \"description\": \"\"\n      }\n    },\n    {\n      \"column\": \"Glucose\",\n      \"properties\": {\n        \"dtype\": \"number\",\n        \"std\": 31,\n        \"min\": 0,\n        \"max\": 199,\n        \"num_unique_values\": 136,\n        \"samples\": [\n          151,\n          101,\n          112\n        ],\n        \"semantic_type\": \"\",\n        \"description\": \"\"\n      }\n    },\n    {\n      \"column\": \"BloodPressure\",\n      \"properties\": {\n        \"dtype\": \"number\",\n        \"std\": 19,\n        \"min\": 0,\n        \"max\": 122,\n        \"num_unique_values\": 47,\n        \"samples\": [\n          86,\n          46,\n          85\n        ],\n        \"semantic_type\": \"\",\n        \"description\": \"\"\n      }\n    },\n    {\n      \"column\": \"SkinThickness\",\n      \"properties\": {\n        \"dtype\": \"number\",\n        \"std\": 15,\n        \"min\": 0,\n        \"max\": 99,\n        \"num_unique_values\": 51,\n        \"samples\": [\n          7,\n          12,\n          48\n        ],\n        \"semantic_type\": \"\",\n        \"description\": \"\"\n      }\n    },\n    {\n      \"column\": \"Insulin\",\n      \"properties\": {\n        \"dtype\": \"number\",\n        \"std\": 115,\n        \"min\": 0,\n        \"max\": 846,\n        \"num_unique_values\": 186,\n        \"samples\": [\n          52,\n          41,\n          183\n        ],\n        \"semantic_type\": \"\",\n        \"description\": \"\"\n      }\n    },\n    {\n      \"column\": \"BMI\",\n      \"properties\": {\n        \"dtype\": \"number\",\n        \"std\": 7.884160320375446,\n        \"min\": 0.0,\n        \"max\": 67.1,\n        \"num_unique_values\": 248,\n        \"samples\": [\n          19.9,\n          31.0,\n          38.1\n        ],\n        \"semantic_type\": \"\",\n        \"description\": \"\"\n      }\n    },\n    {\n      \"column\": \"DiabetesPedigreeFunction\",\n      \"properties\": {\n        \"dtype\": \"number\",\n        \"std\": 0.3313285950127749,\n        \"min\": 0.078,\n        \"max\": 2.42,\n        \"num_unique_values\": 517,\n        \"samples\": [\n          1.731,\n          0.426,\n          0.138\n        ],\n        \"semantic_type\": \"\",\n        \"description\": \"\"\n      }\n    },\n    {\n      \"column\": \"Age\",\n      \"properties\": {\n        \"dtype\": \"number\",\n        \"std\": 11,\n        \"min\": 21,\n        \"max\": 81,\n        \"num_unique_values\": 52,\n        \"samples\": [\n          60,\n          47,\n          72\n        ],\n        \"semantic_type\": \"\",\n        \"description\": \"\"\n      }\n    },\n    {\n      \"column\": \"Outcome\",\n      \"properties\": {\n        \"dtype\": \"number\",\n        \"std\": 0,\n        \"min\": 0,\n        \"max\": 1,\n        \"num_unique_values\": 2,\n        \"samples\": [\n          0,\n          1\n        ],\n        \"semantic_type\": \"\",\n        \"description\": \"\"\n      }\n    }\n  ]\n}"
            }
          },
          "metadata": {},
          "execution_count": 36
        }
      ]
    },
    {
      "cell_type": "markdown",
      "id": "e6dfe8fa",
      "metadata": {
        "id": "e6dfe8fa",
        "papermill": {
          "duration": 0.009322,
          "end_time": "2022-12-21T01:48:53.513958",
          "exception": false,
          "start_time": "2022-12-21T01:48:53.504636",
          "status": "completed"
        },
        "tags": []
      },
      "source": [
        "# 3. Data Loading"
      ]
    },
    {
      "cell_type": "code",
      "execution_count": 37,
      "id": "6594e96e",
      "metadata": {
        "execution": {
          "iopub.execute_input": "2022-12-21T01:48:53.535898Z",
          "iopub.status.busy": "2022-12-21T01:48:53.535408Z",
          "iopub.status.idle": "2022-12-21T01:48:53.548911Z",
          "shell.execute_reply": "2022-12-21T01:48:53.548104Z"
        },
        "id": "6594e96e",
        "outputId": "5b78de32-7275-4756-c24e-38f50dda778e",
        "papermill": {
          "duration": 0.026877,
          "end_time": "2022-12-21T01:48:53.550942",
          "exception": false,
          "start_time": "2022-12-21T01:48:53.524065",
          "status": "completed"
        },
        "tags": [],
        "colab": {
          "base_uri": "https://localhost:8080/",
          "height": 206
        }
      },
      "outputs": [
        {
          "output_type": "execute_result",
          "data": {
            "text/plain": [
              "   Pregnancies  Glucose  BloodPressure  SkinThickness  Insulin   BMI  \\\n",
              "0            6      148             72             35        0  33.6   \n",
              "1            1       85             66             29        0  26.6   \n",
              "2            8      183             64              0        0  23.3   \n",
              "3            1       89             66             23       94  28.1   \n",
              "4            0      137             40             35      168  43.1   \n",
              "\n",
              "   DiabetesPedigreeFunction  Age  Outcome  \n",
              "0                     0.627   50        1  \n",
              "1                     0.351   31        0  \n",
              "2                     0.672   32        1  \n",
              "3                     0.167   21        0  \n",
              "4                     2.288   33        1  "
            ],
            "text/html": [
              "\n",
              "  <div id=\"df-7e7518bb-17bd-4e9a-9c43-a1d35b5bf42c\" class=\"colab-df-container\">\n",
              "    <div>\n",
              "<style scoped>\n",
              "    .dataframe tbody tr th:only-of-type {\n",
              "        vertical-align: middle;\n",
              "    }\n",
              "\n",
              "    .dataframe tbody tr th {\n",
              "        vertical-align: top;\n",
              "    }\n",
              "\n",
              "    .dataframe thead th {\n",
              "        text-align: right;\n",
              "    }\n",
              "</style>\n",
              "<table border=\"1\" class=\"dataframe\">\n",
              "  <thead>\n",
              "    <tr style=\"text-align: right;\">\n",
              "      <th></th>\n",
              "      <th>Pregnancies</th>\n",
              "      <th>Glucose</th>\n",
              "      <th>BloodPressure</th>\n",
              "      <th>SkinThickness</th>\n",
              "      <th>Insulin</th>\n",
              "      <th>BMI</th>\n",
              "      <th>DiabetesPedigreeFunction</th>\n",
              "      <th>Age</th>\n",
              "      <th>Outcome</th>\n",
              "    </tr>\n",
              "  </thead>\n",
              "  <tbody>\n",
              "    <tr>\n",
              "      <th>0</th>\n",
              "      <td>6</td>\n",
              "      <td>148</td>\n",
              "      <td>72</td>\n",
              "      <td>35</td>\n",
              "      <td>0</td>\n",
              "      <td>33.6</td>\n",
              "      <td>0.627</td>\n",
              "      <td>50</td>\n",
              "      <td>1</td>\n",
              "    </tr>\n",
              "    <tr>\n",
              "      <th>1</th>\n",
              "      <td>1</td>\n",
              "      <td>85</td>\n",
              "      <td>66</td>\n",
              "      <td>29</td>\n",
              "      <td>0</td>\n",
              "      <td>26.6</td>\n",
              "      <td>0.351</td>\n",
              "      <td>31</td>\n",
              "      <td>0</td>\n",
              "    </tr>\n",
              "    <tr>\n",
              "      <th>2</th>\n",
              "      <td>8</td>\n",
              "      <td>183</td>\n",
              "      <td>64</td>\n",
              "      <td>0</td>\n",
              "      <td>0</td>\n",
              "      <td>23.3</td>\n",
              "      <td>0.672</td>\n",
              "      <td>32</td>\n",
              "      <td>1</td>\n",
              "    </tr>\n",
              "    <tr>\n",
              "      <th>3</th>\n",
              "      <td>1</td>\n",
              "      <td>89</td>\n",
              "      <td>66</td>\n",
              "      <td>23</td>\n",
              "      <td>94</td>\n",
              "      <td>28.1</td>\n",
              "      <td>0.167</td>\n",
              "      <td>21</td>\n",
              "      <td>0</td>\n",
              "    </tr>\n",
              "    <tr>\n",
              "      <th>4</th>\n",
              "      <td>0</td>\n",
              "      <td>137</td>\n",
              "      <td>40</td>\n",
              "      <td>35</td>\n",
              "      <td>168</td>\n",
              "      <td>43.1</td>\n",
              "      <td>2.288</td>\n",
              "      <td>33</td>\n",
              "      <td>1</td>\n",
              "    </tr>\n",
              "  </tbody>\n",
              "</table>\n",
              "</div>\n",
              "    <div class=\"colab-df-buttons\">\n",
              "\n",
              "  <div class=\"colab-df-container\">\n",
              "    <button class=\"colab-df-convert\" onclick=\"convertToInteractive('df-7e7518bb-17bd-4e9a-9c43-a1d35b5bf42c')\"\n",
              "            title=\"Convert this dataframe to an interactive table.\"\n",
              "            style=\"display:none;\">\n",
              "\n",
              "  <svg xmlns=\"http://www.w3.org/2000/svg\" height=\"24px\" viewBox=\"0 -960 960 960\">\n",
              "    <path d=\"M120-120v-720h720v720H120Zm60-500h600v-160H180v160Zm220 220h160v-160H400v160Zm0 220h160v-160H400v160ZM180-400h160v-160H180v160Zm440 0h160v-160H620v160ZM180-180h160v-160H180v160Zm440 0h160v-160H620v160Z\"/>\n",
              "  </svg>\n",
              "    </button>\n",
              "\n",
              "  <style>\n",
              "    .colab-df-container {\n",
              "      display:flex;\n",
              "      gap: 12px;\n",
              "    }\n",
              "\n",
              "    .colab-df-convert {\n",
              "      background-color: #E8F0FE;\n",
              "      border: none;\n",
              "      border-radius: 50%;\n",
              "      cursor: pointer;\n",
              "      display: none;\n",
              "      fill: #1967D2;\n",
              "      height: 32px;\n",
              "      padding: 0 0 0 0;\n",
              "      width: 32px;\n",
              "    }\n",
              "\n",
              "    .colab-df-convert:hover {\n",
              "      background-color: #E2EBFA;\n",
              "      box-shadow: 0px 1px 2px rgba(60, 64, 67, 0.3), 0px 1px 3px 1px rgba(60, 64, 67, 0.15);\n",
              "      fill: #174EA6;\n",
              "    }\n",
              "\n",
              "    .colab-df-buttons div {\n",
              "      margin-bottom: 4px;\n",
              "    }\n",
              "\n",
              "    [theme=dark] .colab-df-convert {\n",
              "      background-color: #3B4455;\n",
              "      fill: #D2E3FC;\n",
              "    }\n",
              "\n",
              "    [theme=dark] .colab-df-convert:hover {\n",
              "      background-color: #434B5C;\n",
              "      box-shadow: 0px 1px 3px 1px rgba(0, 0, 0, 0.15);\n",
              "      filter: drop-shadow(0px 1px 2px rgba(0, 0, 0, 0.3));\n",
              "      fill: #FFFFFF;\n",
              "    }\n",
              "  </style>\n",
              "\n",
              "    <script>\n",
              "      const buttonEl =\n",
              "        document.querySelector('#df-7e7518bb-17bd-4e9a-9c43-a1d35b5bf42c button.colab-df-convert');\n",
              "      buttonEl.style.display =\n",
              "        google.colab.kernel.accessAllowed ? 'block' : 'none';\n",
              "\n",
              "      async function convertToInteractive(key) {\n",
              "        const element = document.querySelector('#df-7e7518bb-17bd-4e9a-9c43-a1d35b5bf42c');\n",
              "        const dataTable =\n",
              "          await google.colab.kernel.invokeFunction('convertToInteractive',\n",
              "                                                    [key], {});\n",
              "        if (!dataTable) return;\n",
              "\n",
              "        const docLinkHtml = 'Like what you see? Visit the ' +\n",
              "          '<a target=\"_blank\" href=https://colab.research.google.com/notebooks/data_table.ipynb>data table notebook</a>'\n",
              "          + ' to learn more about interactive tables.';\n",
              "        element.innerHTML = '';\n",
              "        dataTable['output_type'] = 'display_data';\n",
              "        await google.colab.output.renderOutput(dataTable, element);\n",
              "        const docLink = document.createElement('div');\n",
              "        docLink.innerHTML = docLinkHtml;\n",
              "        element.appendChild(docLink);\n",
              "      }\n",
              "    </script>\n",
              "  </div>\n",
              "\n",
              "\n",
              "<div id=\"df-030f584d-2629-43bf-9d91-95b393a46221\">\n",
              "  <button class=\"colab-df-quickchart\" onclick=\"quickchart('df-030f584d-2629-43bf-9d91-95b393a46221')\"\n",
              "            title=\"Suggest charts\"\n",
              "            style=\"display:none;\">\n",
              "\n",
              "<svg xmlns=\"http://www.w3.org/2000/svg\" height=\"24px\"viewBox=\"0 0 24 24\"\n",
              "     width=\"24px\">\n",
              "    <g>\n",
              "        <path d=\"M19 3H5c-1.1 0-2 .9-2 2v14c0 1.1.9 2 2 2h14c1.1 0 2-.9 2-2V5c0-1.1-.9-2-2-2zM9 17H7v-7h2v7zm4 0h-2V7h2v10zm4 0h-2v-4h2v4z\"/>\n",
              "    </g>\n",
              "</svg>\n",
              "  </button>\n",
              "\n",
              "<style>\n",
              "  .colab-df-quickchart {\n",
              "      --bg-color: #E8F0FE;\n",
              "      --fill-color: #1967D2;\n",
              "      --hover-bg-color: #E2EBFA;\n",
              "      --hover-fill-color: #174EA6;\n",
              "      --disabled-fill-color: #AAA;\n",
              "      --disabled-bg-color: #DDD;\n",
              "  }\n",
              "\n",
              "  [theme=dark] .colab-df-quickchart {\n",
              "      --bg-color: #3B4455;\n",
              "      --fill-color: #D2E3FC;\n",
              "      --hover-bg-color: #434B5C;\n",
              "      --hover-fill-color: #FFFFFF;\n",
              "      --disabled-bg-color: #3B4455;\n",
              "      --disabled-fill-color: #666;\n",
              "  }\n",
              "\n",
              "  .colab-df-quickchart {\n",
              "    background-color: var(--bg-color);\n",
              "    border: none;\n",
              "    border-radius: 50%;\n",
              "    cursor: pointer;\n",
              "    display: none;\n",
              "    fill: var(--fill-color);\n",
              "    height: 32px;\n",
              "    padding: 0;\n",
              "    width: 32px;\n",
              "  }\n",
              "\n",
              "  .colab-df-quickchart:hover {\n",
              "    background-color: var(--hover-bg-color);\n",
              "    box-shadow: 0 1px 2px rgba(60, 64, 67, 0.3), 0 1px 3px 1px rgba(60, 64, 67, 0.15);\n",
              "    fill: var(--button-hover-fill-color);\n",
              "  }\n",
              "\n",
              "  .colab-df-quickchart-complete:disabled,\n",
              "  .colab-df-quickchart-complete:disabled:hover {\n",
              "    background-color: var(--disabled-bg-color);\n",
              "    fill: var(--disabled-fill-color);\n",
              "    box-shadow: none;\n",
              "  }\n",
              "\n",
              "  .colab-df-spinner {\n",
              "    border: 2px solid var(--fill-color);\n",
              "    border-color: transparent;\n",
              "    border-bottom-color: var(--fill-color);\n",
              "    animation:\n",
              "      spin 1s steps(1) infinite;\n",
              "  }\n",
              "\n",
              "  @keyframes spin {\n",
              "    0% {\n",
              "      border-color: transparent;\n",
              "      border-bottom-color: var(--fill-color);\n",
              "      border-left-color: var(--fill-color);\n",
              "    }\n",
              "    20% {\n",
              "      border-color: transparent;\n",
              "      border-left-color: var(--fill-color);\n",
              "      border-top-color: var(--fill-color);\n",
              "    }\n",
              "    30% {\n",
              "      border-color: transparent;\n",
              "      border-left-color: var(--fill-color);\n",
              "      border-top-color: var(--fill-color);\n",
              "      border-right-color: var(--fill-color);\n",
              "    }\n",
              "    40% {\n",
              "      border-color: transparent;\n",
              "      border-right-color: var(--fill-color);\n",
              "      border-top-color: var(--fill-color);\n",
              "    }\n",
              "    60% {\n",
              "      border-color: transparent;\n",
              "      border-right-color: var(--fill-color);\n",
              "    }\n",
              "    80% {\n",
              "      border-color: transparent;\n",
              "      border-right-color: var(--fill-color);\n",
              "      border-bottom-color: var(--fill-color);\n",
              "    }\n",
              "    90% {\n",
              "      border-color: transparent;\n",
              "      border-bottom-color: var(--fill-color);\n",
              "    }\n",
              "  }\n",
              "</style>\n",
              "\n",
              "  <script>\n",
              "    async function quickchart(key) {\n",
              "      const quickchartButtonEl =\n",
              "        document.querySelector('#' + key + ' button');\n",
              "      quickchartButtonEl.disabled = true;  // To prevent multiple clicks.\n",
              "      quickchartButtonEl.classList.add('colab-df-spinner');\n",
              "      try {\n",
              "        const charts = await google.colab.kernel.invokeFunction(\n",
              "            'suggestCharts', [key], {});\n",
              "      } catch (error) {\n",
              "        console.error('Error during call to suggestCharts:', error);\n",
              "      }\n",
              "      quickchartButtonEl.classList.remove('colab-df-spinner');\n",
              "      quickchartButtonEl.classList.add('colab-df-quickchart-complete');\n",
              "    }\n",
              "    (() => {\n",
              "      let quickchartButtonEl =\n",
              "        document.querySelector('#df-030f584d-2629-43bf-9d91-95b393a46221 button');\n",
              "      quickchartButtonEl.style.display =\n",
              "        google.colab.kernel.accessAllowed ? 'block' : 'none';\n",
              "    })();\n",
              "  </script>\n",
              "</div>\n",
              "    </div>\n",
              "  </div>\n"
            ],
            "application/vnd.google.colaboratory.intrinsic+json": {
              "type": "dataframe",
              "variable_name": "data_set",
              "summary": "{\n  \"name\": \"data_set\",\n  \"rows\": 768,\n  \"fields\": [\n    {\n      \"column\": \"Pregnancies\",\n      \"properties\": {\n        \"dtype\": \"number\",\n        \"std\": 3,\n        \"min\": 0,\n        \"max\": 17,\n        \"num_unique_values\": 17,\n        \"samples\": [\n          6,\n          1,\n          3\n        ],\n        \"semantic_type\": \"\",\n        \"description\": \"\"\n      }\n    },\n    {\n      \"column\": \"Glucose\",\n      \"properties\": {\n        \"dtype\": \"number\",\n        \"std\": 31,\n        \"min\": 0,\n        \"max\": 199,\n        \"num_unique_values\": 136,\n        \"samples\": [\n          151,\n          101,\n          112\n        ],\n        \"semantic_type\": \"\",\n        \"description\": \"\"\n      }\n    },\n    {\n      \"column\": \"BloodPressure\",\n      \"properties\": {\n        \"dtype\": \"number\",\n        \"std\": 19,\n        \"min\": 0,\n        \"max\": 122,\n        \"num_unique_values\": 47,\n        \"samples\": [\n          86,\n          46,\n          85\n        ],\n        \"semantic_type\": \"\",\n        \"description\": \"\"\n      }\n    },\n    {\n      \"column\": \"SkinThickness\",\n      \"properties\": {\n        \"dtype\": \"number\",\n        \"std\": 15,\n        \"min\": 0,\n        \"max\": 99,\n        \"num_unique_values\": 51,\n        \"samples\": [\n          7,\n          12,\n          48\n        ],\n        \"semantic_type\": \"\",\n        \"description\": \"\"\n      }\n    },\n    {\n      \"column\": \"Insulin\",\n      \"properties\": {\n        \"dtype\": \"number\",\n        \"std\": 115,\n        \"min\": 0,\n        \"max\": 846,\n        \"num_unique_values\": 186,\n        \"samples\": [\n          52,\n          41,\n          183\n        ],\n        \"semantic_type\": \"\",\n        \"description\": \"\"\n      }\n    },\n    {\n      \"column\": \"BMI\",\n      \"properties\": {\n        \"dtype\": \"number\",\n        \"std\": 7.884160320375446,\n        \"min\": 0.0,\n        \"max\": 67.1,\n        \"num_unique_values\": 248,\n        \"samples\": [\n          19.9,\n          31.0,\n          38.1\n        ],\n        \"semantic_type\": \"\",\n        \"description\": \"\"\n      }\n    },\n    {\n      \"column\": \"DiabetesPedigreeFunction\",\n      \"properties\": {\n        \"dtype\": \"number\",\n        \"std\": 0.3313285950127749,\n        \"min\": 0.078,\n        \"max\": 2.42,\n        \"num_unique_values\": 517,\n        \"samples\": [\n          1.731,\n          0.426,\n          0.138\n        ],\n        \"semantic_type\": \"\",\n        \"description\": \"\"\n      }\n    },\n    {\n      \"column\": \"Age\",\n      \"properties\": {\n        \"dtype\": \"number\",\n        \"std\": 11,\n        \"min\": 21,\n        \"max\": 81,\n        \"num_unique_values\": 52,\n        \"samples\": [\n          60,\n          47,\n          72\n        ],\n        \"semantic_type\": \"\",\n        \"description\": \"\"\n      }\n    },\n    {\n      \"column\": \"Outcome\",\n      \"properties\": {\n        \"dtype\": \"number\",\n        \"std\": 0,\n        \"min\": 0,\n        \"max\": 1,\n        \"num_unique_values\": 2,\n        \"samples\": [\n          0,\n          1\n        ],\n        \"semantic_type\": \"\",\n        \"description\": \"\"\n      }\n    }\n  ]\n}"
            }
          },
          "metadata": {},
          "execution_count": 37
        }
      ],
      "source": [
        "# menampilkan 5 data pertama\n",
        "data_set.head()"
      ]
    },
    {
      "cell_type": "code",
      "execution_count": 38,
      "id": "8a2fab3a",
      "metadata": {
        "execution": {
          "iopub.execute_input": "2022-12-21T01:48:53.572945Z",
          "iopub.status.busy": "2022-12-21T01:48:53.572200Z",
          "iopub.status.idle": "2022-12-21T01:48:53.579178Z",
          "shell.execute_reply": "2022-12-21T01:48:53.578088Z"
        },
        "id": "8a2fab3a",
        "outputId": "b4061825-0b07-4f8a-a4b3-911f88defc33",
        "papermill": {
          "duration": 0.020719,
          "end_time": "2022-12-21T01:48:53.581580",
          "exception": false,
          "start_time": "2022-12-21T01:48:53.560861",
          "status": "completed"
        },
        "tags": [],
        "colab": {
          "base_uri": "https://localhost:8080/"
        }
      },
      "outputs": [
        {
          "output_type": "execute_result",
          "data": {
            "text/plain": [
              "(768, 9)"
            ]
          },
          "metadata": {},
          "execution_count": 38
        }
      ],
      "source": [
        "data_set.shape"
      ]
    },
    {
      "cell_type": "code",
      "execution_count": 39,
      "id": "cc16b988",
      "metadata": {
        "execution": {
          "iopub.execute_input": "2022-12-21T01:48:53.602866Z",
          "iopub.status.busy": "2022-12-21T01:48:53.602491Z",
          "iopub.status.idle": "2022-12-21T01:48:53.625817Z",
          "shell.execute_reply": "2022-12-21T01:48:53.624514Z"
        },
        "id": "cc16b988",
        "outputId": "d16f77b0-e9f5-4b25-9eb2-295b60737c21",
        "papermill": {
          "duration": 0.036657,
          "end_time": "2022-12-21T01:48:53.628112",
          "exception": false,
          "start_time": "2022-12-21T01:48:53.591455",
          "status": "completed"
        },
        "tags": [],
        "colab": {
          "base_uri": "https://localhost:8080/"
        }
      },
      "outputs": [
        {
          "output_type": "stream",
          "name": "stdout",
          "text": [
            "<class 'pandas.core.frame.DataFrame'>\n",
            "RangeIndex: 768 entries, 0 to 767\n",
            "Data columns (total 9 columns):\n",
            " #   Column                    Non-Null Count  Dtype  \n",
            "---  ------                    --------------  -----  \n",
            " 0   Pregnancies               768 non-null    int64  \n",
            " 1   Glucose                   768 non-null    int64  \n",
            " 2   BloodPressure             768 non-null    int64  \n",
            " 3   SkinThickness             768 non-null    int64  \n",
            " 4   Insulin                   768 non-null    int64  \n",
            " 5   BMI                       768 non-null    float64\n",
            " 6   DiabetesPedigreeFunction  768 non-null    float64\n",
            " 7   Age                       768 non-null    int64  \n",
            " 8   Outcome                   768 non-null    int64  \n",
            "dtypes: float64(2), int64(7)\n",
            "memory usage: 54.1 KB\n"
          ]
        }
      ],
      "source": [
        "data_set.info()"
      ]
    },
    {
      "cell_type": "markdown",
      "id": "a4d52dd3",
      "metadata": {
        "id": "a4d52dd3",
        "papermill": {
          "duration": 0.009253,
          "end_time": "2022-12-21T01:48:53.647680",
          "exception": false,
          "start_time": "2022-12-21T01:48:53.638427",
          "status": "completed"
        },
        "tags": []
      },
      "source": [
        "# 4. Data Cleaning"
      ]
    },
    {
      "cell_type": "markdown",
      "id": "5c7aaf73",
      "metadata": {
        "id": "5c7aaf73",
        "papermill": {
          "duration": 0.009275,
          "end_time": "2022-12-21T01:48:53.666614",
          "exception": false,
          "start_time": "2022-12-21T01:48:53.657339",
          "status": "completed"
        },
        "tags": []
      },
      "source": [
        "## a. Missing Value"
      ]
    },
    {
      "cell_type": "code",
      "execution_count": 40,
      "id": "928ce306",
      "metadata": {
        "execution": {
          "iopub.execute_input": "2022-12-21T01:48:53.687768Z",
          "iopub.status.busy": "2022-12-21T01:48:53.686885Z",
          "iopub.status.idle": "2022-12-21T01:48:53.696467Z",
          "shell.execute_reply": "2022-12-21T01:48:53.695230Z"
        },
        "id": "928ce306",
        "outputId": "2cdbdbb4-6de6-47c3-b5f1-6b33e96190aa",
        "papermill": {
          "duration": 0.022138,
          "end_time": "2022-12-21T01:48:53.698537",
          "exception": false,
          "start_time": "2022-12-21T01:48:53.676399",
          "status": "completed"
        },
        "tags": [],
        "colab": {
          "base_uri": "https://localhost:8080/"
        }
      },
      "outputs": [
        {
          "output_type": "execute_result",
          "data": {
            "text/plain": [
              "Pregnancies                 0\n",
              "Glucose                     0\n",
              "BloodPressure               0\n",
              "SkinThickness               0\n",
              "Insulin                     0\n",
              "BMI                         0\n",
              "DiabetesPedigreeFunction    0\n",
              "Age                         0\n",
              "Outcome                     0\n",
              "dtype: int64"
            ]
          },
          "metadata": {},
          "execution_count": 40
        }
      ],
      "source": [
        "data_set.isnull().sum()"
      ]
    },
    {
      "cell_type": "markdown",
      "id": "9392e93a",
      "metadata": {
        "id": "9392e93a",
        "papermill": {
          "duration": 0.009256,
          "end_time": "2022-12-21T01:48:53.717824",
          "exception": false,
          "start_time": "2022-12-21T01:48:53.708568",
          "status": "completed"
        },
        "tags": []
      },
      "source": [
        "Tidak terdapat missing value pada dataset"
      ]
    },
    {
      "cell_type": "markdown",
      "id": "112961a5",
      "metadata": {
        "id": "112961a5",
        "papermill": {
          "duration": 0.009886,
          "end_time": "2022-12-21T01:48:53.738288",
          "exception": false,
          "start_time": "2022-12-21T01:48:53.728402",
          "status": "completed"
        },
        "tags": []
      },
      "source": [
        "## b. Duplikasi data"
      ]
    },
    {
      "cell_type": "code",
      "execution_count": 41,
      "id": "4662ba9c",
      "metadata": {
        "execution": {
          "iopub.execute_input": "2022-12-21T01:48:53.760096Z",
          "iopub.status.busy": "2022-12-21T01:48:53.759681Z",
          "iopub.status.idle": "2022-12-21T01:48:53.777478Z",
          "shell.execute_reply": "2022-12-21T01:48:53.776186Z"
        },
        "id": "4662ba9c",
        "outputId": "8b638207-c336-40e9-e182-f4d1f3cdb8ff",
        "papermill": {
          "duration": 0.03186,
          "end_time": "2022-12-21T01:48:53.780214",
          "exception": false,
          "start_time": "2022-12-21T01:48:53.748354",
          "status": "completed"
        },
        "tags": [],
        "colab": {
          "base_uri": "https://localhost:8080/"
        }
      },
      "outputs": [
        {
          "output_type": "execute_result",
          "data": {
            "text/plain": [
              "0      False\n",
              "1      False\n",
              "2      False\n",
              "3      False\n",
              "4      False\n",
              "       ...  \n",
              "763    False\n",
              "764    False\n",
              "765    False\n",
              "766    False\n",
              "767    False\n",
              "Length: 768, dtype: bool"
            ]
          },
          "metadata": {},
          "execution_count": 41
        }
      ],
      "source": [
        "data_set.duplicated()"
      ]
    },
    {
      "cell_type": "code",
      "execution_count": 42,
      "id": "bd688d2d",
      "metadata": {
        "execution": {
          "iopub.execute_input": "2022-12-21T01:48:53.803599Z",
          "iopub.status.busy": "2022-12-21T01:48:53.803225Z",
          "iopub.status.idle": "2022-12-21T01:48:53.810988Z",
          "shell.execute_reply": "2022-12-21T01:48:53.810121Z"
        },
        "id": "bd688d2d",
        "outputId": "7076ad87-6829-4684-dddc-5722f11960c4",
        "papermill": {
          "duration": 0.02199,
          "end_time": "2022-12-21T01:48:53.812982",
          "exception": false,
          "start_time": "2022-12-21T01:48:53.790992",
          "status": "completed"
        },
        "tags": [],
        "colab": {
          "base_uri": "https://localhost:8080/"
        }
      },
      "outputs": [
        {
          "output_type": "execute_result",
          "data": {
            "text/plain": [
              "0"
            ]
          },
          "metadata": {},
          "execution_count": 42
        }
      ],
      "source": [
        "data_set.duplicated().sum()"
      ]
    },
    {
      "cell_type": "markdown",
      "id": "02411e90",
      "metadata": {
        "id": "02411e90",
        "papermill": {
          "duration": 0.009563,
          "end_time": "2022-12-21T01:48:53.832844",
          "exception": false,
          "start_time": "2022-12-21T01:48:53.823281",
          "status": "completed"
        },
        "tags": []
      },
      "source": [
        "Dapat terlihat bahwa tidak terdapat duplikasi data dalam dataset."
      ]
    },
    {
      "cell_type": "markdown",
      "id": "6329f53f",
      "metadata": {
        "id": "6329f53f",
        "papermill": {
          "duration": 0.009586,
          "end_time": "2022-12-21T01:48:53.852297",
          "exception": false,
          "start_time": "2022-12-21T01:48:53.842711",
          "status": "completed"
        },
        "tags": []
      },
      "source": [
        "# 5. Data Exploration"
      ]
    },
    {
      "cell_type": "code",
      "execution_count": 43,
      "id": "646290f4",
      "metadata": {
        "execution": {
          "iopub.execute_input": "2022-12-21T01:48:53.876864Z",
          "iopub.status.busy": "2022-12-21T01:48:53.876084Z",
          "iopub.status.idle": "2022-12-21T01:48:53.910467Z",
          "shell.execute_reply": "2022-12-21T01:48:53.909568Z"
        },
        "id": "646290f4",
        "outputId": "1c9214ba-c106-4683-d5ad-cbb855e7ba7f",
        "papermill": {
          "duration": 0.048069,
          "end_time": "2022-12-21T01:48:53.912420",
          "exception": false,
          "start_time": "2022-12-21T01:48:53.864351",
          "status": "completed"
        },
        "tags": [],
        "colab": {
          "base_uri": "https://localhost:8080/",
          "height": 320
        }
      },
      "outputs": [
        {
          "output_type": "execute_result",
          "data": {
            "text/plain": [
              "       Pregnancies     Glucose  BloodPressure  SkinThickness     Insulin  \\\n",
              "count   768.000000  768.000000     768.000000     768.000000  768.000000   \n",
              "mean      3.845052  120.894531      69.105469      20.536458   79.799479   \n",
              "std       3.369578   31.972618      19.355807      15.952218  115.244002   \n",
              "min       0.000000    0.000000       0.000000       0.000000    0.000000   \n",
              "25%       1.000000   99.000000      62.000000       0.000000    0.000000   \n",
              "50%       3.000000  117.000000      72.000000      23.000000   30.500000   \n",
              "75%       6.000000  140.250000      80.000000      32.000000  127.250000   \n",
              "max      17.000000  199.000000     122.000000      99.000000  846.000000   \n",
              "\n",
              "              BMI  DiabetesPedigreeFunction         Age     Outcome  \n",
              "count  768.000000                768.000000  768.000000  768.000000  \n",
              "mean    31.992578                  0.471876   33.240885    0.348958  \n",
              "std      7.884160                  0.331329   11.760232    0.476951  \n",
              "min      0.000000                  0.078000   21.000000    0.000000  \n",
              "25%     27.300000                  0.243750   24.000000    0.000000  \n",
              "50%     32.000000                  0.372500   29.000000    0.000000  \n",
              "75%     36.600000                  0.626250   41.000000    1.000000  \n",
              "max     67.100000                  2.420000   81.000000    1.000000  "
            ],
            "text/html": [
              "\n",
              "  <div id=\"df-66b21772-4f98-484e-bc92-39c76e5f7a5d\" class=\"colab-df-container\">\n",
              "    <div>\n",
              "<style scoped>\n",
              "    .dataframe tbody tr th:only-of-type {\n",
              "        vertical-align: middle;\n",
              "    }\n",
              "\n",
              "    .dataframe tbody tr th {\n",
              "        vertical-align: top;\n",
              "    }\n",
              "\n",
              "    .dataframe thead th {\n",
              "        text-align: right;\n",
              "    }\n",
              "</style>\n",
              "<table border=\"1\" class=\"dataframe\">\n",
              "  <thead>\n",
              "    <tr style=\"text-align: right;\">\n",
              "      <th></th>\n",
              "      <th>Pregnancies</th>\n",
              "      <th>Glucose</th>\n",
              "      <th>BloodPressure</th>\n",
              "      <th>SkinThickness</th>\n",
              "      <th>Insulin</th>\n",
              "      <th>BMI</th>\n",
              "      <th>DiabetesPedigreeFunction</th>\n",
              "      <th>Age</th>\n",
              "      <th>Outcome</th>\n",
              "    </tr>\n",
              "  </thead>\n",
              "  <tbody>\n",
              "    <tr>\n",
              "      <th>count</th>\n",
              "      <td>768.000000</td>\n",
              "      <td>768.000000</td>\n",
              "      <td>768.000000</td>\n",
              "      <td>768.000000</td>\n",
              "      <td>768.000000</td>\n",
              "      <td>768.000000</td>\n",
              "      <td>768.000000</td>\n",
              "      <td>768.000000</td>\n",
              "      <td>768.000000</td>\n",
              "    </tr>\n",
              "    <tr>\n",
              "      <th>mean</th>\n",
              "      <td>3.845052</td>\n",
              "      <td>120.894531</td>\n",
              "      <td>69.105469</td>\n",
              "      <td>20.536458</td>\n",
              "      <td>79.799479</td>\n",
              "      <td>31.992578</td>\n",
              "      <td>0.471876</td>\n",
              "      <td>33.240885</td>\n",
              "      <td>0.348958</td>\n",
              "    </tr>\n",
              "    <tr>\n",
              "      <th>std</th>\n",
              "      <td>3.369578</td>\n",
              "      <td>31.972618</td>\n",
              "      <td>19.355807</td>\n",
              "      <td>15.952218</td>\n",
              "      <td>115.244002</td>\n",
              "      <td>7.884160</td>\n",
              "      <td>0.331329</td>\n",
              "      <td>11.760232</td>\n",
              "      <td>0.476951</td>\n",
              "    </tr>\n",
              "    <tr>\n",
              "      <th>min</th>\n",
              "      <td>0.000000</td>\n",
              "      <td>0.000000</td>\n",
              "      <td>0.000000</td>\n",
              "      <td>0.000000</td>\n",
              "      <td>0.000000</td>\n",
              "      <td>0.000000</td>\n",
              "      <td>0.078000</td>\n",
              "      <td>21.000000</td>\n",
              "      <td>0.000000</td>\n",
              "    </tr>\n",
              "    <tr>\n",
              "      <th>25%</th>\n",
              "      <td>1.000000</td>\n",
              "      <td>99.000000</td>\n",
              "      <td>62.000000</td>\n",
              "      <td>0.000000</td>\n",
              "      <td>0.000000</td>\n",
              "      <td>27.300000</td>\n",
              "      <td>0.243750</td>\n",
              "      <td>24.000000</td>\n",
              "      <td>0.000000</td>\n",
              "    </tr>\n",
              "    <tr>\n",
              "      <th>50%</th>\n",
              "      <td>3.000000</td>\n",
              "      <td>117.000000</td>\n",
              "      <td>72.000000</td>\n",
              "      <td>23.000000</td>\n",
              "      <td>30.500000</td>\n",
              "      <td>32.000000</td>\n",
              "      <td>0.372500</td>\n",
              "      <td>29.000000</td>\n",
              "      <td>0.000000</td>\n",
              "    </tr>\n",
              "    <tr>\n",
              "      <th>75%</th>\n",
              "      <td>6.000000</td>\n",
              "      <td>140.250000</td>\n",
              "      <td>80.000000</td>\n",
              "      <td>32.000000</td>\n",
              "      <td>127.250000</td>\n",
              "      <td>36.600000</td>\n",
              "      <td>0.626250</td>\n",
              "      <td>41.000000</td>\n",
              "      <td>1.000000</td>\n",
              "    </tr>\n",
              "    <tr>\n",
              "      <th>max</th>\n",
              "      <td>17.000000</td>\n",
              "      <td>199.000000</td>\n",
              "      <td>122.000000</td>\n",
              "      <td>99.000000</td>\n",
              "      <td>846.000000</td>\n",
              "      <td>67.100000</td>\n",
              "      <td>2.420000</td>\n",
              "      <td>81.000000</td>\n",
              "      <td>1.000000</td>\n",
              "    </tr>\n",
              "  </tbody>\n",
              "</table>\n",
              "</div>\n",
              "    <div class=\"colab-df-buttons\">\n",
              "\n",
              "  <div class=\"colab-df-container\">\n",
              "    <button class=\"colab-df-convert\" onclick=\"convertToInteractive('df-66b21772-4f98-484e-bc92-39c76e5f7a5d')\"\n",
              "            title=\"Convert this dataframe to an interactive table.\"\n",
              "            style=\"display:none;\">\n",
              "\n",
              "  <svg xmlns=\"http://www.w3.org/2000/svg\" height=\"24px\" viewBox=\"0 -960 960 960\">\n",
              "    <path d=\"M120-120v-720h720v720H120Zm60-500h600v-160H180v160Zm220 220h160v-160H400v160Zm0 220h160v-160H400v160ZM180-400h160v-160H180v160Zm440 0h160v-160H620v160ZM180-180h160v-160H180v160Zm440 0h160v-160H620v160Z\"/>\n",
              "  </svg>\n",
              "    </button>\n",
              "\n",
              "  <style>\n",
              "    .colab-df-container {\n",
              "      display:flex;\n",
              "      gap: 12px;\n",
              "    }\n",
              "\n",
              "    .colab-df-convert {\n",
              "      background-color: #E8F0FE;\n",
              "      border: none;\n",
              "      border-radius: 50%;\n",
              "      cursor: pointer;\n",
              "      display: none;\n",
              "      fill: #1967D2;\n",
              "      height: 32px;\n",
              "      padding: 0 0 0 0;\n",
              "      width: 32px;\n",
              "    }\n",
              "\n",
              "    .colab-df-convert:hover {\n",
              "      background-color: #E2EBFA;\n",
              "      box-shadow: 0px 1px 2px rgba(60, 64, 67, 0.3), 0px 1px 3px 1px rgba(60, 64, 67, 0.15);\n",
              "      fill: #174EA6;\n",
              "    }\n",
              "\n",
              "    .colab-df-buttons div {\n",
              "      margin-bottom: 4px;\n",
              "    }\n",
              "\n",
              "    [theme=dark] .colab-df-convert {\n",
              "      background-color: #3B4455;\n",
              "      fill: #D2E3FC;\n",
              "    }\n",
              "\n",
              "    [theme=dark] .colab-df-convert:hover {\n",
              "      background-color: #434B5C;\n",
              "      box-shadow: 0px 1px 3px 1px rgba(0, 0, 0, 0.15);\n",
              "      filter: drop-shadow(0px 1px 2px rgba(0, 0, 0, 0.3));\n",
              "      fill: #FFFFFF;\n",
              "    }\n",
              "  </style>\n",
              "\n",
              "    <script>\n",
              "      const buttonEl =\n",
              "        document.querySelector('#df-66b21772-4f98-484e-bc92-39c76e5f7a5d button.colab-df-convert');\n",
              "      buttonEl.style.display =\n",
              "        google.colab.kernel.accessAllowed ? 'block' : 'none';\n",
              "\n",
              "      async function convertToInteractive(key) {\n",
              "        const element = document.querySelector('#df-66b21772-4f98-484e-bc92-39c76e5f7a5d');\n",
              "        const dataTable =\n",
              "          await google.colab.kernel.invokeFunction('convertToInteractive',\n",
              "                                                    [key], {});\n",
              "        if (!dataTable) return;\n",
              "\n",
              "        const docLinkHtml = 'Like what you see? Visit the ' +\n",
              "          '<a target=\"_blank\" href=https://colab.research.google.com/notebooks/data_table.ipynb>data table notebook</a>'\n",
              "          + ' to learn more about interactive tables.';\n",
              "        element.innerHTML = '';\n",
              "        dataTable['output_type'] = 'display_data';\n",
              "        await google.colab.output.renderOutput(dataTable, element);\n",
              "        const docLink = document.createElement('div');\n",
              "        docLink.innerHTML = docLinkHtml;\n",
              "        element.appendChild(docLink);\n",
              "      }\n",
              "    </script>\n",
              "  </div>\n",
              "\n",
              "\n",
              "<div id=\"df-5267cfb1-046f-4338-b828-7fa6c8af5e29\">\n",
              "  <button class=\"colab-df-quickchart\" onclick=\"quickchart('df-5267cfb1-046f-4338-b828-7fa6c8af5e29')\"\n",
              "            title=\"Suggest charts\"\n",
              "            style=\"display:none;\">\n",
              "\n",
              "<svg xmlns=\"http://www.w3.org/2000/svg\" height=\"24px\"viewBox=\"0 0 24 24\"\n",
              "     width=\"24px\">\n",
              "    <g>\n",
              "        <path d=\"M19 3H5c-1.1 0-2 .9-2 2v14c0 1.1.9 2 2 2h14c1.1 0 2-.9 2-2V5c0-1.1-.9-2-2-2zM9 17H7v-7h2v7zm4 0h-2V7h2v10zm4 0h-2v-4h2v4z\"/>\n",
              "    </g>\n",
              "</svg>\n",
              "  </button>\n",
              "\n",
              "<style>\n",
              "  .colab-df-quickchart {\n",
              "      --bg-color: #E8F0FE;\n",
              "      --fill-color: #1967D2;\n",
              "      --hover-bg-color: #E2EBFA;\n",
              "      --hover-fill-color: #174EA6;\n",
              "      --disabled-fill-color: #AAA;\n",
              "      --disabled-bg-color: #DDD;\n",
              "  }\n",
              "\n",
              "  [theme=dark] .colab-df-quickchart {\n",
              "      --bg-color: #3B4455;\n",
              "      --fill-color: #D2E3FC;\n",
              "      --hover-bg-color: #434B5C;\n",
              "      --hover-fill-color: #FFFFFF;\n",
              "      --disabled-bg-color: #3B4455;\n",
              "      --disabled-fill-color: #666;\n",
              "  }\n",
              "\n",
              "  .colab-df-quickchart {\n",
              "    background-color: var(--bg-color);\n",
              "    border: none;\n",
              "    border-radius: 50%;\n",
              "    cursor: pointer;\n",
              "    display: none;\n",
              "    fill: var(--fill-color);\n",
              "    height: 32px;\n",
              "    padding: 0;\n",
              "    width: 32px;\n",
              "  }\n",
              "\n",
              "  .colab-df-quickchart:hover {\n",
              "    background-color: var(--hover-bg-color);\n",
              "    box-shadow: 0 1px 2px rgba(60, 64, 67, 0.3), 0 1px 3px 1px rgba(60, 64, 67, 0.15);\n",
              "    fill: var(--button-hover-fill-color);\n",
              "  }\n",
              "\n",
              "  .colab-df-quickchart-complete:disabled,\n",
              "  .colab-df-quickchart-complete:disabled:hover {\n",
              "    background-color: var(--disabled-bg-color);\n",
              "    fill: var(--disabled-fill-color);\n",
              "    box-shadow: none;\n",
              "  }\n",
              "\n",
              "  .colab-df-spinner {\n",
              "    border: 2px solid var(--fill-color);\n",
              "    border-color: transparent;\n",
              "    border-bottom-color: var(--fill-color);\n",
              "    animation:\n",
              "      spin 1s steps(1) infinite;\n",
              "  }\n",
              "\n",
              "  @keyframes spin {\n",
              "    0% {\n",
              "      border-color: transparent;\n",
              "      border-bottom-color: var(--fill-color);\n",
              "      border-left-color: var(--fill-color);\n",
              "    }\n",
              "    20% {\n",
              "      border-color: transparent;\n",
              "      border-left-color: var(--fill-color);\n",
              "      border-top-color: var(--fill-color);\n",
              "    }\n",
              "    30% {\n",
              "      border-color: transparent;\n",
              "      border-left-color: var(--fill-color);\n",
              "      border-top-color: var(--fill-color);\n",
              "      border-right-color: var(--fill-color);\n",
              "    }\n",
              "    40% {\n",
              "      border-color: transparent;\n",
              "      border-right-color: var(--fill-color);\n",
              "      border-top-color: var(--fill-color);\n",
              "    }\n",
              "    60% {\n",
              "      border-color: transparent;\n",
              "      border-right-color: var(--fill-color);\n",
              "    }\n",
              "    80% {\n",
              "      border-color: transparent;\n",
              "      border-right-color: var(--fill-color);\n",
              "      border-bottom-color: var(--fill-color);\n",
              "    }\n",
              "    90% {\n",
              "      border-color: transparent;\n",
              "      border-bottom-color: var(--fill-color);\n",
              "    }\n",
              "  }\n",
              "</style>\n",
              "\n",
              "  <script>\n",
              "    async function quickchart(key) {\n",
              "      const quickchartButtonEl =\n",
              "        document.querySelector('#' + key + ' button');\n",
              "      quickchartButtonEl.disabled = true;  // To prevent multiple clicks.\n",
              "      quickchartButtonEl.classList.add('colab-df-spinner');\n",
              "      try {\n",
              "        const charts = await google.colab.kernel.invokeFunction(\n",
              "            'suggestCharts', [key], {});\n",
              "      } catch (error) {\n",
              "        console.error('Error during call to suggestCharts:', error);\n",
              "      }\n",
              "      quickchartButtonEl.classList.remove('colab-df-spinner');\n",
              "      quickchartButtonEl.classList.add('colab-df-quickchart-complete');\n",
              "    }\n",
              "    (() => {\n",
              "      let quickchartButtonEl =\n",
              "        document.querySelector('#df-5267cfb1-046f-4338-b828-7fa6c8af5e29 button');\n",
              "      quickchartButtonEl.style.display =\n",
              "        google.colab.kernel.accessAllowed ? 'block' : 'none';\n",
              "    })();\n",
              "  </script>\n",
              "</div>\n",
              "    </div>\n",
              "  </div>\n"
            ],
            "application/vnd.google.colaboratory.intrinsic+json": {
              "type": "dataframe",
              "summary": "{\n  \"name\": \"data_set\",\n  \"rows\": 8,\n  \"fields\": [\n    {\n      \"column\": \"Pregnancies\",\n      \"properties\": {\n        \"dtype\": \"number\",\n        \"std\": 269.85223453356366,\n        \"min\": 0.0,\n        \"max\": 768.0,\n        \"num_unique_values\": 8,\n        \"samples\": [\n          3.8450520833333335,\n          3.0,\n          768.0\n        ],\n        \"semantic_type\": \"\",\n        \"description\": \"\"\n      }\n    },\n    {\n      \"column\": \"Glucose\",\n      \"properties\": {\n        \"dtype\": \"number\",\n        \"std\": 243.73802348295857,\n        \"min\": 0.0,\n        \"max\": 768.0,\n        \"num_unique_values\": 8,\n        \"samples\": [\n          120.89453125,\n          117.0,\n          768.0\n        ],\n        \"semantic_type\": \"\",\n        \"description\": \"\"\n      }\n    },\n    {\n      \"column\": \"BloodPressure\",\n      \"properties\": {\n        \"dtype\": \"number\",\n        \"std\": 252.8525053581062,\n        \"min\": 0.0,\n        \"max\": 768.0,\n        \"num_unique_values\": 8,\n        \"samples\": [\n          69.10546875,\n          72.0,\n          768.0\n        ],\n        \"semantic_type\": \"\",\n        \"description\": \"\"\n      }\n    },\n    {\n      \"column\": \"SkinThickness\",\n      \"properties\": {\n        \"dtype\": \"number\",\n        \"std\": 263.7684730531098,\n        \"min\": 0.0,\n        \"max\": 768.0,\n        \"num_unique_values\": 7,\n        \"samples\": [\n          768.0,\n          20.536458333333332,\n          32.0\n        ],\n        \"semantic_type\": \"\",\n        \"description\": \"\"\n      }\n    },\n    {\n      \"column\": \"Insulin\",\n      \"properties\": {\n        \"dtype\": \"number\",\n        \"std\": 350.26059167945886,\n        \"min\": 0.0,\n        \"max\": 846.0,\n        \"num_unique_values\": 7,\n        \"samples\": [\n          768.0,\n          79.79947916666667,\n          127.25\n        ],\n        \"semantic_type\": \"\",\n        \"description\": \"\"\n      }\n    },\n    {\n      \"column\": \"BMI\",\n      \"properties\": {\n        \"dtype\": \"number\",\n        \"std\": 262.05117817552093,\n        \"min\": 0.0,\n        \"max\": 768.0,\n        \"num_unique_values\": 8,\n        \"samples\": [\n          31.992578124999998,\n          32.0,\n          768.0\n        ],\n        \"semantic_type\": \"\",\n        \"description\": \"\"\n      }\n    },\n    {\n      \"column\": \"DiabetesPedigreeFunction\",\n      \"properties\": {\n        \"dtype\": \"number\",\n        \"std\": 271.3005221658502,\n        \"min\": 0.078,\n        \"max\": 768.0,\n        \"num_unique_values\": 8,\n        \"samples\": [\n          0.47187630208333325,\n          0.3725,\n          768.0\n        ],\n        \"semantic_type\": \"\",\n        \"description\": \"\"\n      }\n    },\n    {\n      \"column\": \"Age\",\n      \"properties\": {\n        \"dtype\": \"number\",\n        \"std\": 260.1941178528413,\n        \"min\": 11.760231540678685,\n        \"max\": 768.0,\n        \"num_unique_values\": 8,\n        \"samples\": [\n          33.240885416666664,\n          29.0,\n          768.0\n        ],\n        \"semantic_type\": \"\",\n        \"description\": \"\"\n      }\n    },\n    {\n      \"column\": \"Outcome\",\n      \"properties\": {\n        \"dtype\": \"number\",\n        \"std\": 271.3865920388932,\n        \"min\": 0.0,\n        \"max\": 768.0,\n        \"num_unique_values\": 5,\n        \"samples\": [\n          0.3489583333333333,\n          1.0,\n          0.47695137724279896\n        ],\n        \"semantic_type\": \"\",\n        \"description\": \"\"\n      }\n    }\n  ]\n}"
            }
          },
          "metadata": {},
          "execution_count": 43
        }
      ],
      "source": [
        "data_set.describe()"
      ]
    },
    {
      "cell_type": "code",
      "execution_count": 44,
      "id": "dba43585",
      "metadata": {
        "execution": {
          "iopub.execute_input": "2022-12-21T01:48:53.934214Z",
          "iopub.status.busy": "2022-12-21T01:48:53.933626Z",
          "iopub.status.idle": "2022-12-21T01:48:54.584448Z",
          "shell.execute_reply": "2022-12-21T01:48:54.582958Z"
        },
        "id": "dba43585",
        "outputId": "1b54a44b-7f6a-4c37-c43f-7fa8bd074f45",
        "papermill": {
          "duration": 0.663989,
          "end_time": "2022-12-21T01:48:54.586533",
          "exception": false,
          "start_time": "2022-12-21T01:48:53.922544",
          "status": "completed"
        },
        "tags": [],
        "colab": {
          "base_uri": "https://localhost:8080/",
          "height": 1000
        }
      },
      "outputs": [
        {
          "output_type": "execute_result",
          "data": {
            "text/plain": [
              "<Axes: title={'center': 'Correlation Heatmap of Diabetes Dataset'}>"
            ]
          },
          "metadata": {},
          "execution_count": 44
        },
        {
          "output_type": "display_data",
          "data": {
            "text/plain": [
              "<Figure size 1600x1600 with 2 Axes>"
            ],
            "image/png": "[encoded data removed]"
          },
          "metadata": {}
        }
      ],
      "source": [
        "fig, ax = mtp.subplots()\n",
        "mtp.title('Correlation Heatmap of Diabetes Dataset')\n",
        "fig.set_size_inches((16,16))\n",
        "sns.heatmap(data_set.corr(), square = True, annot = True)"
      ]
    },
    {
      "cell_type": "code",
      "execution_count": 45,
      "id": "c0206201",
      "metadata": {
        "execution": {
          "iopub.execute_input": "2022-12-21T01:48:54.610762Z",
          "iopub.status.busy": "2022-12-21T01:48:54.610157Z",
          "iopub.status.idle": "2022-12-21T01:48:54.794407Z",
          "shell.execute_reply": "2022-12-21T01:48:54.792780Z"
        },
        "id": "c0206201",
        "outputId": "7281a225-580d-47ef-cae1-0309bde3bc0d",
        "papermill": {
          "duration": 0.199126,
          "end_time": "2022-12-21T01:48:54.796806",
          "exception": false,
          "start_time": "2022-12-21T01:48:54.597680",
          "status": "completed"
        },
        "tags": [],
        "colab": {
          "base_uri": "https://localhost:8080/",
          "height": 452
        }
      },
      "outputs": [
        {
          "output_type": "display_data",
          "data": {
            "text/plain": [
              "<Figure size 640x480 with 2 Axes>"
            ],
            "image/png": "[encoded data removed]"
          },
          "metadata": {}
        }
      ],
      "source": [
        "sns.heatmap(data_set.corr()[['Outcome']].sort_values(by='Outcome', ascending=False), annot = True)\n",
        "mtp.title('Correlation Heatmap of Diabetes Dataset')\n",
        "mtp.show()"
      ]
    },
    {
      "cell_type": "markdown",
      "id": "a73a2223",
      "metadata": {
        "id": "a73a2223",
        "papermill": {
          "duration": 0.011915,
          "end_time": "2022-12-21T01:48:54.820673",
          "exception": false,
          "start_time": "2022-12-21T01:48:54.808758",
          "status": "completed"
        },
        "tags": []
      },
      "source": [
        "Dapat terlihat pada tabel di atas bahwa variabel yang memiliki korelasi cukup tinggi terhadap variabel Outcome adalah Glucose sedangkan variabel yang memiliki korelasi sangat rendah terhadap variabel Outcome adalah BloodPressure."
      ]
    },
    {
      "cell_type": "markdown",
      "id": "b174f159",
      "metadata": {
        "id": "b174f159",
        "papermill": {
          "duration": 0.011198,
          "end_time": "2022-12-21T01:48:54.843391",
          "exception": false,
          "start_time": "2022-12-21T01:48:54.832193",
          "status": "completed"
        },
        "tags": []
      },
      "source": [
        "# 6. Feature Selection"
      ]
    },
    {
      "cell_type": "code",
      "execution_count": 46,
      "id": "3e10bc5e",
      "metadata": {
        "execution": {
          "iopub.execute_input": "2022-12-21T01:48:54.868185Z",
          "iopub.status.busy": "2022-12-21T01:48:54.867794Z",
          "iopub.status.idle": "2022-12-21T01:48:54.873077Z",
          "shell.execute_reply": "2022-12-21T01:48:54.872014Z"
        },
        "id": "3e10bc5e",
        "papermill": {
          "duration": 0.020946,
          "end_time": "2022-12-21T01:48:54.875824",
          "exception": false,
          "start_time": "2022-12-21T01:48:54.854878",
          "status": "completed"
        },
        "tags": []
      },
      "outputs": [],
      "source": [
        "x= data_set.iloc[:, 7].values\n",
        "y= data_set.iloc[:, -1].values"
      ]
    },
    {
      "cell_type": "code",
      "execution_count": 47,
      "id": "43f1a3a5",
      "metadata": {
        "execution": {
          "iopub.execute_input": "2022-12-21T01:48:54.901009Z",
          "iopub.status.busy": "2022-12-21T01:48:54.900612Z",
          "iopub.status.idle": "2022-12-21T01:48:54.907606Z",
          "shell.execute_reply": "2022-12-21T01:48:54.906588Z"
        },
        "id": "43f1a3a5",
        "outputId": "671781a1-5d76-4891-b56d-fd8a41cfb7e1",
        "papermill": {
          "duration": 0.022156,
          "end_time": "2022-12-21T01:48:54.909863",
          "exception": false,
          "start_time": "2022-12-21T01:48:54.887707",
          "status": "completed"
        },
        "tags": [],
        "colab": {
          "base_uri": "https://localhost:8080/"
        }
      },
      "outputs": [
        {
          "output_type": "stream",
          "name": "stdout",
          "text": [
            "[50 31 32 21 33 30 26 29 53 54 30 34 57 59 51 32 31 31 33 32 27 50 41 29\n",
            " 51 41 43 22 57 38 60 28 22 28 45 33 35 46 27 56 26 37 48 54 40 25 29 22\n",
            " 31 24 22 26 30 58 42 21 41 31 44 22 21 39 36 24 42 32 38 54 25 27 28 26\n",
            " 42 23 22 22 41 27 26 24 22 22 36 22 37 27 45 26 43 24 21 34 42 60 21 40\n",
            " 24 22 23 31 33 22 21 24 27 21 27 37 25 24 24 46 23 25 39 61 38 25 22 21\n",
            " 25 24 23 69 23 26 30 23 40 62 33 33 30 39 26 31 21 22 29 28 55 38 22 42\n",
            " 23 21 41 34 65 22 24 37 42 23 43 36 21 23 22 47 36 45 27 21 32 41 22 34\n",
            " 29 29 36 29 25 23 33 36 42 26 47 37 32 23 21 27 40 41 60 33 31 25 21 40\n",
            " 36 40 42 29 21 23 26 29 21 28 32 27 55 27 57 52 21 41 25 24 60 24 36 38\n",
            " 25 32 32 41 21 66 37 61 26 22 26 24 31 24 22 46 22 29 23 26 51 23 32 27\n",
            " 21 22 22 33 29 49 41 23 34 23 42 27 24 25 44 21 30 25 24 51 34 27 24 63\n",
            " 35 43 25 24 21 28 38 21 40 21 52 25 29 23 57 22 28 39 37 47 52 51 34 29\n",
            " 26 33 21 25 31 24 65 28 29 24 46 58 30 25 35 28 37 29 47 21 25 30 41 22\n",
            " 27 25 43 26 30 29 28 59 31 25 36 43 21 24 30 37 23 37 46 25 41 44 22 26\n",
            " 44 44 33 41 22 36 22 33 57 49 22 23 26 37 29 30 46 24 21 49 28 44 48 29\n",
            " 29 63 65 67 30 30 29 21 22 45 25 21 21 25 28 58 22 22 32 35 24 22 21 25\n",
            " 25 24 35 45 58 28 42 27 21 37 31 25 39 22 25 25 31 55 35 38 41 26 46 25\n",
            " 39 28 28 25 22 21 21 22 22 37 27 28 26 21 21 21 36 31 25 38 26 43 23 38\n",
            " 22 29 36 29 41 28 21 31 41 22 24 33 30 25 28 26 22 26 23 23 25 72 24 38\n",
            " 62 24 51 81 48 26 39 37 34 21 22 25 38 27 28 22 22 50 24 59 29 31 39 63\n",
            " 35 29 28 23 31 24 21 58 28 67 24 42 33 45 22 66 30 25 55 39 21 28 41 41\n",
            " 40 38 35 21 21 64 46 21 58 22 24 28 53 51 41 60 25 26 26 45 24 21 21 24\n",
            " 22 31 22 24 29 31 24 23 46 67 23 32 43 27 56 25 29 37 53 28 50 37 21 25\n",
            " 66 23 28 37 30 58 42 35 54 28 24 32 27 22 21 46 37 33 39 21 22 22 23 25\n",
            " 35 21 36 62 21 27 62 42 52 22 41 29 52 25 45 24 44 25 34 22 46 21 38 26\n",
            " 24 28 30 54 36 21 22 25 27 23 24 36 40 26 50 27 30 23 50 24 28 28 45 21\n",
            " 21 29 21 21 45 21 34 24 23 22 31 38 48 23 32 28 27 24 50 31 27 30 33 22\n",
            " 42 23 23 27 28 27 22 25 22 41 51 27 54 22 43 40 40 24 70 40 43 45 49 21\n",
            " 47 22 68 31 53 25 25 23 22 26 22 27 69 25 22 29 23 46 34 44 23 43 25 43\n",
            " 31 22 28 26 26 49 52 41 27 28 30 22 45 23 24 40 38 21 32 34 31 56 24 52\n",
            " 34 21 42 42 45 38 25 22 22 22 34 22 24 22 53 28 21 42 21 42 48 26 22 45\n",
            " 39 46 27 32 36 50 22 28 25 26 45 37 39 52 26 66 22 43 33 63 27 30 47 23]\n"
          ]
        }
      ],
      "source": [
        "print(x)"
      ]
    },
    {
      "cell_type": "code",
      "execution_count": 48,
      "id": "49f82c90",
      "metadata": {
        "execution": {
          "iopub.execute_input": "2022-12-21T01:48:54.936404Z",
          "iopub.status.busy": "2022-12-21T01:48:54.935992Z",
          "iopub.status.idle": "2022-12-21T01:48:54.944658Z",
          "shell.execute_reply": "2022-12-21T01:48:54.943021Z"
        },
        "id": "49f82c90",
        "outputId": "07f6a2fc-fd07-4449-9bc9-f60fede2b921",
        "papermill": {
          "duration": 0.025433,
          "end_time": "2022-12-21T01:48:54.947530",
          "exception": false,
          "start_time": "2022-12-21T01:48:54.922097",
          "status": "completed"
        },
        "tags": [],
        "colab": {
          "base_uri": "https://localhost:8080/"
        }
      },
      "outputs": [
        {
          "output_type": "stream",
          "name": "stdout",
          "text": [
            "[1 0 1 0 1 0 1 0 1 1 0 1 0 1 1 1 1 1 0 1 0 0 1 1 1 1 1 0 0 0 0 1 0 0 0 0 0\n",
            " 1 1 1 0 0 0 1 0 1 0 0 1 0 0 0 0 1 0 0 1 0 0 0 0 1 0 0 1 0 1 0 0 0 1 0 1 0\n",
            " 0 0 0 0 1 0 0 0 0 0 1 0 0 0 1 0 0 0 0 1 0 0 0 0 0 1 1 0 0 0 0 0 0 0 0 1 1\n",
            " 1 0 0 1 1 1 0 0 0 1 0 0 0 1 1 0 0 1 1 1 1 1 0 0 0 0 0 0 0 0 0 0 1 0 0 0 0\n",
            " 0 0 0 0 1 0 1 1 0 0 0 1 0 0 0 0 1 1 0 0 0 0 1 1 0 0 0 1 0 1 0 1 0 0 0 0 0\n",
            " 1 1 1 1 1 0 0 1 1 0 1 0 1 1 1 0 0 0 0 0 0 1 1 0 1 0 0 0 1 1 1 1 0 1 1 1 1\n",
            " 0 0 0 0 0 1 0 0 1 1 0 0 0 1 1 1 1 0 0 0 1 1 0 1 0 0 0 0 0 0 0 0 1 1 0 0 0\n",
            " 1 0 1 0 0 1 0 1 0 0 1 1 0 0 0 0 0 1 0 0 0 1 0 0 1 1 0 0 1 0 0 0 1 1 1 0 0\n",
            " 1 0 1 0 1 1 0 1 0 0 1 0 1 1 0 0 1 0 1 0 0 1 0 1 0 1 1 1 0 0 1 0 1 0 0 0 1\n",
            " 0 0 0 0 1 1 1 0 0 0 0 0 0 0 0 0 1 0 0 0 0 0 1 1 1 0 1 1 0 0 1 0 0 1 0 0 1\n",
            " 1 0 0 0 0 1 0 0 1 0 0 0 0 0 0 0 1 1 1 0 0 1 0 0 1 0 0 1 0 1 1 0 1 0 1 0 1\n",
            " 0 1 1 0 0 0 0 1 1 0 1 0 1 0 0 0 0 1 1 0 1 0 1 0 0 0 0 0 1 0 0 0 0 1 0 0 1\n",
            " 1 1 0 0 1 0 0 1 0 0 0 1 0 0 1 0 0 0 0 0 0 0 0 0 1 0 0 0 0 0 0 0 1 0 0 0 1\n",
            " 0 0 0 1 1 0 0 0 0 0 0 0 1 0 0 0 0 1 0 0 0 1 0 0 0 1 0 0 0 1 0 0 0 0 1 1 0\n",
            " 0 0 0 0 0 1 0 0 0 0 0 0 0 0 0 0 0 1 0 0 0 1 1 1 1 0 0 1 1 0 0 0 0 0 0 0 0\n",
            " 0 0 0 0 0 1 1 0 0 0 0 0 0 0 1 0 0 0 0 0 0 0 1 0 1 1 0 0 0 1 0 1 0 1 0 1 0\n",
            " 1 0 0 1 0 0 1 0 0 0 0 1 1 0 1 0 0 0 0 1 1 0 1 0 0 0 1 1 0 0 0 0 0 0 0 0 0\n",
            " 0 1 0 0 0 0 1 0 0 1 0 0 0 1 0 0 0 1 1 1 0 0 0 0 0 0 1 0 0 0 1 0 1 1 1 1 0\n",
            " 1 1 0 0 0 0 0 0 0 1 1 0 1 0 0 1 0 1 0 0 0 0 0 1 0 1 0 1 0 1 1 0 0 0 0 1 1\n",
            " 0 0 0 1 0 1 1 0 0 1 0 0 1 1 0 0 1 0 0 1 0 0 0 0 0 0 0 1 1 1 0 0 0 0 0 0 1\n",
            " 1 0 0 1 0 0 1 0 1 1 1 0 0 1 1 1 0 1 0 1 0 1 0 0 0 0 1 0]\n"
          ]
        }
      ],
      "source": [
        "print(y)"
      ]
    },
    {
      "cell_type": "code",
      "execution_count": 49,
      "id": "d0d179a3",
      "metadata": {
        "execution": {
          "iopub.execute_input": "2022-12-21T01:48:54.973818Z",
          "iopub.status.busy": "2022-12-21T01:48:54.972472Z",
          "iopub.status.idle": "2022-12-21T01:48:55.092199Z",
          "shell.execute_reply": "2022-12-21T01:48:55.091265Z"
        },
        "id": "d0d179a3",
        "papermill": {
          "duration": 0.135053,
          "end_time": "2022-12-21T01:48:55.094516",
          "exception": false,
          "start_time": "2022-12-21T01:48:54.959463",
          "status": "completed"
        },
        "tags": []
      },
      "outputs": [],
      "source": [
        "# Splitting the dataset into training and test set.\n",
        "from sklearn.model_selection import train_test_split\n",
        "x_train, x_test, y_train, y_test= train_test_split(x, y, test_size= 1/3, random_state=0)"
      ]
    },
    {
      "cell_type": "code",
      "execution_count": 50,
      "id": "8b7749af",
      "metadata": {
        "execution": {
          "iopub.execute_input": "2022-12-21T01:48:55.119438Z",
          "iopub.status.busy": "2022-12-21T01:48:55.119077Z",
          "iopub.status.idle": "2022-12-21T01:48:55.123932Z",
          "shell.execute_reply": "2022-12-21T01:48:55.122863Z"
        },
        "id": "8b7749af",
        "papermill": {
          "duration": 0.019305,
          "end_time": "2022-12-21T01:48:55.125736",
          "exception": false,
          "start_time": "2022-12-21T01:48:55.106431",
          "status": "completed"
        },
        "tags": []
      },
      "outputs": [],
      "source": [
        "x_train= x_train.reshape(-1, 1)\n",
        "x_test = x_test.reshape(-1, 1)"
      ]
    },
    {
      "cell_type": "markdown",
      "id": "9438c409",
      "metadata": {
        "id": "9438c409",
        "papermill": {
          "duration": 0.011357,
          "end_time": "2022-12-21T01:48:55.148823",
          "exception": false,
          "start_time": "2022-12-21T01:48:55.137466",
          "status": "completed"
        },
        "tags": []
      },
      "source": [
        "# 7. Modeling & Evaluation"
      ]
    },
    {
      "cell_type": "markdown",
      "id": "1a69e2da",
      "metadata": {
        "id": "1a69e2da",
        "papermill": {
          "duration": 0.011586,
          "end_time": "2022-12-21T01:48:55.172243",
          "exception": false,
          "start_time": "2022-12-21T01:48:55.160657",
          "status": "completed"
        },
        "tags": []
      },
      "source": [
        "## a. Modeling Linear Regression"
      ]
    },
    {
      "cell_type": "code",
      "execution_count": 51,
      "id": "a1ae5afd",
      "metadata": {
        "execution": {
          "iopub.execute_input": "2022-12-21T01:48:55.197219Z",
          "iopub.status.busy": "2022-12-21T01:48:55.196834Z",
          "iopub.status.idle": "2022-12-21T01:48:55.288171Z",
          "shell.execute_reply": "2022-12-21T01:48:55.287474Z"
        },
        "id": "a1ae5afd",
        "outputId": "d0b7fba2-26f0-4572-eda7-f24535d40f89",
        "papermill": {
          "duration": 0.106086,
          "end_time": "2022-12-21T01:48:55.290006",
          "exception": false,
          "start_time": "2022-12-21T01:48:55.183920",
          "status": "completed"
        },
        "tags": [],
        "colab": {
          "base_uri": "https://localhost:8080/",
          "height": 75
        }
      },
      "outputs": [
        {
          "output_type": "execute_result",
          "data": {
            "text/plain": [
              "LinearRegression()"
            ],
            "text/html": [
              "<style>#sk-container-id-1 {color: black;background-color: white;}#sk-container-id-1 pre{padding: 0;}#sk-container-id-1 div.sk-toggleable {background-color: white;}#sk-container-id-1 label.sk-toggleable__label {cursor: pointer;display: block;width: 100%;margin-bottom: 0;padding: 0.3em;box-sizing: border-box;text-align: center;}#sk-container-id-1 label.sk-toggleable__label-arrow:before {content: \"▸\";float: left;margin-right: 0.25em;color: #696969;}#sk-container-id-1 label.sk-toggleable__label-arrow:hover:before {color: black;}#sk-container-id-1 div.sk-estimator:hover label.sk-toggleable__label-arrow:before {color: black;}#sk-container-id-1 div.sk-toggleable__content {max-height: 0;max-width: 0;overflow: hidden;text-align: left;background-color: #f0f8ff;}#sk-container-id-1 div.sk-toggleable__content pre {margin: 0.2em;color: black;border-radius: 0.25em;background-color: #f0f8ff;}#sk-container-id-1 input.sk-toggleable__control:checked~div.sk-toggleable__content {max-height: 200px;max-width: 100%;overflow: auto;}#sk-container-id-1 input.sk-toggleable__control:checked~label.sk-toggleable__label-arrow:before {content: \"▾\";}#sk-container-id-1 div.sk-estimator input.sk-toggleable__control:checked~label.sk-toggleable__label {background-color: #d4ebff;}#sk-container-id-1 div.sk-label input.sk-toggleable__control:checked~label.sk-toggleable__label {background-color: #d4ebff;}#sk-container-id-1 input.sk-hidden--visually {border: 0;clip: rect(1px 1px 1px 1px);clip: rect(1px, 1px, 1px, 1px);height: 1px;margin: -1px;overflow: hidden;padding: 0;position: absolute;width: 1px;}#sk-container-id-1 div.sk-estimator {font-family: monospace;background-color: #f0f8ff;border: 1px dotted black;border-radius: 0.25em;box-sizing: border-box;margin-bottom: 0.5em;}#sk-container-id-1 div.sk-estimator:hover {background-color: #d4ebff;}#sk-container-id-1 div.sk-parallel-item::after {content: \"\";width: 100%;border-bottom: 1px solid gray;flex-grow: 1;}#sk-container-id-1 div.sk-label:hover label.sk-toggleable__label {background-color: #d4ebff;}#sk-container-id-1 div.sk-serial::before {content: \"\";position: absolute;border-left: 1px solid gray;box-sizing: border-box;top: 0;bottom: 0;left: 50%;z-index: 0;}#sk-container-id-1 div.sk-serial {display: flex;flex-direction: column;align-items: center;background-color: white;padding-right: 0.2em;padding-left: 0.2em;position: relative;}#sk-container-id-1 div.sk-item {position: relative;z-index: 1;}#sk-container-id-1 div.sk-parallel {display: flex;align-items: stretch;justify-content: center;background-color: white;position: relative;}#sk-container-id-1 div.sk-item::before, #sk-container-id-1 div.sk-parallel-item::before {content: \"\";position: absolute;border-left: 1px solid gray;box-sizing: border-box;top: 0;bottom: 0;left: 50%;z-index: -1;}#sk-container-id-1 div.sk-parallel-item {display: flex;flex-direction: column;z-index: 1;position: relative;background-color: white;}#sk-container-id-1 div.sk-parallel-item:first-child::after {align-self: flex-end;width: 50%;}#sk-container-id-1 div.sk-parallel-item:last-child::after {align-self: flex-start;width: 50%;}#sk-container-id-1 div.sk-parallel-item:only-child::after {width: 0;}#sk-container-id-1 div.sk-dashed-wrapped {border: 1px dashed gray;margin: 0 0.4em 0.5em 0.4em;box-sizing: border-box;padding-bottom: 0.4em;background-color: white;}#sk-container-id-1 div.sk-label label {font-family: monospace;font-weight: bold;display: inline-block;line-height: 1.2em;}#sk-container-id-1 div.sk-label-container {text-align: center;}#sk-container-id-1 div.sk-container {/* jupyter's `normalize.less` sets `[hidden] { display: none; }` but bootstrap.min.css set `[hidden] { display: none !important; }` so we also need the `!important` here to be able to override the default hidden behavior on the sphinx rendered scikit-learn.org. See: https://github.com/scikit-learn/scikit-learn/issues/21755 */display: inline-block !important;position: relative;}#sk-container-id-1 div.sk-text-repr-fallback {display: none;}</style><div id=\"sk-container-id-1\" class=\"sk-top-container\"><div class=\"sk-text-repr-fallback\"><pre>LinearRegression()</pre><b>In a Jupyter environment, please rerun this cell to show the HTML representation or trust the notebook. <br />On GitHub, the HTML representation is unable to render, please try loading this page with nbviewer.org.</b></div><div class=\"sk-container\" hidden><div class=\"sk-item\"><div class=\"sk-estimator sk-toggleable\"><input class=\"sk-toggleable__control sk-hidden--visually\" id=\"sk-estimator-id-1\" type=\"checkbox\" checked><label for=\"sk-estimator-id-1\" class=\"sk-toggleable__label sk-toggleable__label-arrow\">LinearRegression</label><div class=\"sk-toggleable__content\"><pre>LinearRegression()</pre></div></div></div></div></div>"
            ]
          },
          "metadata": {},
          "execution_count": 51
        }
      ],
      "source": [
        "#Fitting the Simple Linear Regression model to the training dataset\n",
        "from sklearn.linear_model import LinearRegression\n",
        "regressor= LinearRegression()\n",
        "regressor.fit(x_train, y_train)"
      ]
    },
    {
      "cell_type": "code",
      "execution_count": 52,
      "id": "8024d289",
      "metadata": {
        "execution": {
          "iopub.execute_input": "2022-12-21T01:48:55.316474Z",
          "iopub.status.busy": "2022-12-21T01:48:55.315570Z",
          "iopub.status.idle": "2022-12-21T01:48:55.321334Z",
          "shell.execute_reply": "2022-12-21T01:48:55.320654Z"
        },
        "id": "8024d289",
        "papermill": {
          "duration": 0.020682,
          "end_time": "2022-12-21T01:48:55.323106",
          "exception": false,
          "start_time": "2022-12-21T01:48:55.302424",
          "status": "completed"
        },
        "tags": []
      },
      "outputs": [],
      "source": [
        "#Prediction of Test and Training set result\n",
        "y_pred= regressor.predict(x_test)\n",
        "x_pred= regressor.predict(x_train)"
      ]
    },
    {
      "cell_type": "markdown",
      "id": "c27acfb1",
      "metadata": {
        "id": "c27acfb1",
        "papermill": {
          "duration": 0.011546,
          "end_time": "2022-12-21T01:48:55.346384",
          "exception": false,
          "start_time": "2022-12-21T01:48:55.334838",
          "status": "completed"
        },
        "tags": []
      },
      "source": [
        "## b. Evaluation"
      ]
    },
    {
      "cell_type": "code",
      "execution_count": 53,
      "id": "44f7f1f9",
      "metadata": {
        "execution": {
          "iopub.execute_input": "2022-12-21T01:48:55.372087Z",
          "iopub.status.busy": "2022-12-21T01:48:55.371477Z",
          "iopub.status.idle": "2022-12-21T01:48:55.377294Z",
          "shell.execute_reply": "2022-12-21T01:48:55.376153Z"
        },
        "id": "44f7f1f9",
        "outputId": "63772970-58fa-48cc-a415-ce7864f5f7da",
        "papermill": {
          "duration": 0.020877,
          "end_time": "2022-12-21T01:48:55.379111",
          "exception": false,
          "start_time": "2022-12-21T01:48:55.358234",
          "status": "completed"
        },
        "tags": [],
        "colab": {
          "base_uri": "https://localhost:8080/"
        }
      },
      "outputs": [
        {
          "output_type": "stream",
          "name": "stdout",
          "text": [
            "Mean Absolute Error (MAE):  0.42668661366885147\n"
          ]
        }
      ],
      "source": [
        "from sklearn.metrics import mean_absolute_error\n",
        "# memprediksi model dengan test set\n",
        "pred = regressor.predict(x_test)\n",
        "\n",
        "# mengevaluasi model dengan MAE\n",
        "mae = mean_absolute_error(y_test, pred)\n",
        "print(\"Mean Absolute Error (MAE): \", mae)"
      ]
    },
    {
      "cell_type": "code",
      "execution_count": 54,
      "id": "b6ba3611",
      "metadata": {
        "execution": {
          "iopub.execute_input": "2022-12-21T01:48:55.403882Z",
          "iopub.status.busy": "2022-12-21T01:48:55.403529Z",
          "iopub.status.idle": "2022-12-21T01:48:55.410866Z",
          "shell.execute_reply": "2022-12-21T01:48:55.409820Z"
        },
        "id": "b6ba3611",
        "outputId": "8cf723cf-a027-479d-c5d3-fbca2dc4e59b",
        "papermill": {
          "duration": 0.022009,
          "end_time": "2022-12-21T01:48:55.412795",
          "exception": false,
          "start_time": "2022-12-21T01:48:55.390786",
          "status": "completed"
        },
        "tags": [],
        "colab": {
          "base_uri": "https://localhost:8080/"
        }
      },
      "outputs": [
        {
          "output_type": "execute_result",
          "data": {
            "text/plain": [
              "0.04060851000525778"
            ]
          },
          "metadata": {},
          "execution_count": 54
        }
      ],
      "source": [
        "regressor.score(x_test,y_test)"
      ]
    },
    {
      "cell_type": "markdown",
      "id": "2e817e77",
      "metadata": {
        "id": "2e817e77",
        "papermill": {
          "duration": 0.011496,
          "end_time": "2022-12-21T01:48:55.436168",
          "exception": false,
          "start_time": "2022-12-21T01:48:55.424672",
          "status": "completed"
        },
        "tags": []
      },
      "source": [
        "# 8. Visualization"
      ]
    },
    {
      "cell_type": "code",
      "execution_count": 55,
      "id": "7636643b",
      "metadata": {
        "execution": {
          "iopub.execute_input": "2022-12-21T01:48:55.460871Z",
          "iopub.status.busy": "2022-12-21T01:48:55.460538Z",
          "iopub.status.idle": "2022-12-21T01:48:55.626974Z",
          "shell.execute_reply": "2022-12-21T01:48:55.625981Z"
        },
        "id": "7636643b",
        "outputId": "915f020a-24f4-43d5-f19b-ae27cc70aaa6",
        "papermill": {
          "duration": 0.181125,
          "end_time": "2022-12-21T01:48:55.628943",
          "exception": false,
          "start_time": "2022-12-21T01:48:55.447818",
          "status": "completed"
        },
        "tags": [],
        "colab": {
          "base_uri": "https://localhost:8080/",
          "height": 472
        }
      },
      "outputs": [
        {
          "output_type": "display_data",
          "data": {
            "text/plain": [
              "<Figure size 640x480 with 1 Axes>"
            ],
            "image/png": "[encoded data removed]"
          },
          "metadata": {}
        }
      ],
      "source": [
        "#visualizing the Test set results\n",
        "mtp.scatter(x_test, y_test, color=\"blue\")\n",
        "mtp.plot(x_train, x_pred, color=\"red\")\n",
        "mtp.title(\"Age vs Outcome (Test Dataset)\")\n",
        "mtp.xlabel(\"Age\")\n",
        "mtp.ylabel(\"Outcome\")\n",
        "mtp.show()"
      ]
    },
    {
      "cell_type": "markdown",
      "id": "c6f12bbb",
      "metadata": {
        "papermill": {
          "duration": 0.011533,
          "end_time": "2022-12-21T01:48:55.653128",
          "exception": false,
          "start_time": "2022-12-21T01:48:55.641595",
          "status": "completed"
        },
        "tags": [],
        "id": "c6f12bbb"
      },
      "source": [
        "Dari grafik di atas dapat disimpulkan bahwa semakin tua umur maka semakin tinggi kemungkinan terjangkit penyakit diabetes. Namun tidak menutup kemungkinan bahwa umur muda pun dapat terjangkit penyakit diabetes."
      ]
    },
    {
      "cell_type": "code",
      "execution_count": 56,
      "id": "e6a0e8b2",
      "metadata": {
        "execution": {
          "iopub.execute_input": "2022-12-21T01:48:55.678803Z",
          "iopub.status.busy": "2022-12-21T01:48:55.677893Z",
          "iopub.status.idle": "2022-12-21T01:48:55.697200Z",
          "shell.execute_reply": "2022-12-21T01:48:55.696434Z"
        },
        "id": "e6a0e8b2",
        "papermill": {
          "duration": 0.034513,
          "end_time": "2022-12-21T01:48:55.699582",
          "exception": false,
          "start_time": "2022-12-21T01:48:55.665069",
          "status": "completed"
        },
        "tags": []
      },
      "outputs": [],
      "source": [
        "def segment_age(x):\n",
        "    segment = ''\n",
        "    if x[\"Age\"] >= 21 and x[\"Age\"] < 40:\n",
        "        segment = \"Young Adults [21,40)\"\n",
        "    elif x[\"Age\"] >= 40 and x[\"Age\"] < 60:\n",
        "        segment = \"Middle Adults [40,60)\"\n",
        "    elif x[\"Age\"] >= 60 and x[\"Age\"] <= 81:\n",
        "        segment = \"Old Adults [60,81)\"\n",
        "    return segment\n",
        "\n",
        "data_set[\"Age\"] = data_set.apply(lambda x : segment_age(x), axis=1)"
      ]
    },
    {
      "cell_type": "code",
      "execution_count": 57,
      "id": "198ee414",
      "metadata": {
        "execution": {
          "iopub.execute_input": "2022-12-21T01:48:55.725389Z",
          "iopub.status.busy": "2022-12-21T01:48:55.724999Z",
          "iopub.status.idle": "2022-12-21T01:48:55.882529Z",
          "shell.execute_reply": "2022-12-21T01:48:55.881198Z"
        },
        "id": "198ee414",
        "outputId": "7d6dd9ad-dc5e-4a9d-aa3b-a42feb8fc701",
        "papermill": {
          "duration": 0.172945,
          "end_time": "2022-12-21T01:48:55.884789",
          "exception": false,
          "start_time": "2022-12-21T01:48:55.711844",
          "status": "completed"
        },
        "tags": [],
        "colab": {
          "base_uri": "https://localhost:8080/",
          "height": 749
        }
      },
      "outputs": [
        {
          "output_type": "stream",
          "name": "stderr",
          "text": [
            "<ipython-input-57-d5003fc94c2f>:3: FutureWarning: \n",
            "\n",
            "Passing `palette` without assigning `hue` is deprecated and will be removed in v0.14.0. Assign the `y` variable to `hue` and set `legend=False` for the same effect.\n",
            "\n",
            "  ax=sns.countplot(data_set[\"Age\"], palette=\"mako\")\n"
          ]
        },
        {
          "output_type": "display_data",
          "data": {
            "text/plain": [
              "<Figure size 1000x700 with 1 Axes>"
            ],
            "image/png": "[encoded data removed]"
          },
          "metadata": {}
        }
      ],
      "source": [
        "mtp.figure(figsize=(10,7))\n",
        "mtp.title(\"Percentage of Age\", fontsize = 12,fontweight=\"bold\")\n",
        "ax=sns.countplot(data_set[\"Age\"], palette=\"mako\")\n",
        "mtp.xlabel(\"Age\", fontsize = 11)\n",
        "mtp.ylabel(\"Count\", fontsize = 11)\n",
        "total=len(data_set)\n",
        "for p in ax.patches:\n",
        "        ax.annotate(f'{100 * p.get_height() / total:.2f}%\\n', (p.get_x() + p.get_width() / 2,p.get_height()),ha='center', va='center',weight='bold')"
      ]
    },
    {
      "cell_type": "code",
      "execution_count": 58,
      "id": "8273d516",
      "metadata": {
        "execution": {
          "iopub.execute_input": "2022-12-21T01:48:55.915658Z",
          "iopub.status.busy": "2022-12-21T01:48:55.915089Z",
          "iopub.status.idle": "2022-12-21T01:48:55.932577Z",
          "shell.execute_reply": "2022-12-21T01:48:55.931403Z"
        },
        "id": "8273d516",
        "papermill": {
          "duration": 0.034262,
          "end_time": "2022-12-21T01:48:55.934998",
          "exception": false,
          "start_time": "2022-12-21T01:48:55.900736",
          "status": "completed"
        },
        "tags": []
      },
      "outputs": [],
      "source": [
        "diabetes_by_Glucose = pd.pivot_table(data_set, values='Glucose', index='Age', columns='Outcome', aggfunc=len).fillna(0.0)\n",
        "diabetes_by_Glucose.columns = ['Not Diabetes', 'Diabetes']"
      ]
    },
    {
      "cell_type": "code",
      "execution_count": 59,
      "id": "e3674a52",
      "metadata": {
        "execution": {
          "iopub.execute_input": "2022-12-21T01:48:55.963363Z",
          "iopub.status.busy": "2022-12-21T01:48:55.962733Z",
          "iopub.status.idle": "2022-12-21T01:48:55.970695Z",
          "shell.execute_reply": "2022-12-21T01:48:55.969747Z"
        },
        "id": "e3674a52",
        "outputId": "3a218b3c-851b-4537-b883-8b5c153fb975",
        "papermill": {
          "duration": 0.024546,
          "end_time": "2022-12-21T01:48:55.973297",
          "exception": false,
          "start_time": "2022-12-21T01:48:55.948751",
          "status": "completed"
        },
        "tags": [],
        "colab": {
          "base_uri": "https://localhost:8080/",
          "height": 175
        }
      },
      "outputs": [
        {
          "output_type": "execute_result",
          "data": {
            "text/plain": [
              "                       Not Diabetes  Diabetes\n",
              "Age                                          \n",
              "Middle Adults [40,60)            76        99\n",
              "Old Adults [60,81)               23         9\n",
              "Young Adults [21,40)            401       160"
            ],
            "text/html": [
              "\n",
              "  <div id=\"df-07bb1688-3720-4448-9a81-16fad664a707\" class=\"colab-df-container\">\n",
              "    <div>\n",
              "<style scoped>\n",
              "    .dataframe tbody tr th:only-of-type {\n",
              "        vertical-align: middle;\n",
              "    }\n",
              "\n",
              "    .dataframe tbody tr th {\n",
              "        vertical-align: top;\n",
              "    }\n",
              "\n",
              "    .dataframe thead th {\n",
              "        text-align: right;\n",
              "    }\n",
              "</style>\n",
              "<table border=\"1\" class=\"dataframe\">\n",
              "  <thead>\n",
              "    <tr style=\"text-align: right;\">\n",
              "      <th></th>\n",
              "      <th>Not Diabetes</th>\n",
              "      <th>Diabetes</th>\n",
              "    </tr>\n",
              "    <tr>\n",
              "      <th>Age</th>\n",
              "      <th></th>\n",
              "      <th></th>\n",
              "    </tr>\n",
              "  </thead>\n",
              "  <tbody>\n",
              "    <tr>\n",
              "      <th>Middle Adults [40,60)</th>\n",
              "      <td>76</td>\n",
              "      <td>99</td>\n",
              "    </tr>\n",
              "    <tr>\n",
              "      <th>Old Adults [60,81)</th>\n",
              "      <td>23</td>\n",
              "      <td>9</td>\n",
              "    </tr>\n",
              "    <tr>\n",
              "      <th>Young Adults [21,40)</th>\n",
              "      <td>401</td>\n",
              "      <td>160</td>\n",
              "    </tr>\n",
              "  </tbody>\n",
              "</table>\n",
              "</div>\n",
              "    <div class=\"colab-df-buttons\">\n",
              "\n",
              "  <div class=\"colab-df-container\">\n",
              "    <button class=\"colab-df-convert\" onclick=\"convertToInteractive('df-07bb1688-3720-4448-9a81-16fad664a707')\"\n",
              "            title=\"Convert this dataframe to an interactive table.\"\n",
              "            style=\"display:none;\">\n",
              "\n",
              "  <svg xmlns=\"http://www.w3.org/2000/svg\" height=\"24px\" viewBox=\"0 -960 960 960\">\n",
              "    <path d=\"M120-120v-720h720v720H120Zm60-500h600v-160H180v160Zm220 220h160v-160H400v160Zm0 220h160v-160H400v160ZM180-400h160v-160H180v160Zm440 0h160v-160H620v160ZM180-180h160v-160H180v160Zm440 0h160v-160H620v160Z\"/>\n",
              "  </svg>\n",
              "    </button>\n",
              "\n",
              "  <style>\n",
              "    .colab-df-container {\n",
              "      display:flex;\n",
              "      gap: 12px;\n",
              "    }\n",
              "\n",
              "    .colab-df-convert {\n",
              "      background-color: #E8F0FE;\n",
              "      border: none;\n",
              "      border-radius: 50%;\n",
              "      cursor: pointer;\n",
              "      display: none;\n",
              "      fill: #1967D2;\n",
              "      height: 32px;\n",
              "      padding: 0 0 0 0;\n",
              "      width: 32px;\n",
              "    }\n",
              "\n",
              "    .colab-df-convert:hover {\n",
              "      background-color: #E2EBFA;\n",
              "      box-shadow: 0px 1px 2px rgba(60, 64, 67, 0.3), 0px 1px 3px 1px rgba(60, 64, 67, 0.15);\n",
              "      fill: #174EA6;\n",
              "    }\n",
              "\n",
              "    .colab-df-buttons div {\n",
              "      margin-bottom: 4px;\n",
              "    }\n",
              "\n",
              "    [theme=dark] .colab-df-convert {\n",
              "      background-color: #3B4455;\n",
              "      fill: #D2E3FC;\n",
              "    }\n",
              "\n",
              "    [theme=dark] .colab-df-convert:hover {\n",
              "      background-color: #434B5C;\n",
              "      box-shadow: 0px 1px 3px 1px rgba(0, 0, 0, 0.15);\n",
              "      filter: drop-shadow(0px 1px 2px rgba(0, 0, 0, 0.3));\n",
              "      fill: #FFFFFF;\n",
              "    }\n",
              "  </style>\n",
              "\n",
              "    <script>\n",
              "      const buttonEl =\n",
              "        document.querySelector('#df-07bb1688-3720-4448-9a81-16fad664a707 button.colab-df-convert');\n",
              "      buttonEl.style.display =\n",
              "        google.colab.kernel.accessAllowed ? 'block' : 'none';\n",
              "\n",
              "      async function convertToInteractive(key) {\n",
              "        const element = document.querySelector('#df-07bb1688-3720-4448-9a81-16fad664a707');\n",
              "        const dataTable =\n",
              "          await google.colab.kernel.invokeFunction('convertToInteractive',\n",
              "                                                    [key], {});\n",
              "        if (!dataTable) return;\n",
              "\n",
              "        const docLinkHtml = 'Like what you see? Visit the ' +\n",
              "          '<a target=\"_blank\" href=https://colab.research.google.com/notebooks/data_table.ipynb>data table notebook</a>'\n",
              "          + ' to learn more about interactive tables.';\n",
              "        element.innerHTML = '';\n",
              "        dataTable['output_type'] = 'display_data';\n",
              "        await google.colab.output.renderOutput(dataTable, element);\n",
              "        const docLink = document.createElement('div');\n",
              "        docLink.innerHTML = docLinkHtml;\n",
              "        element.appendChild(docLink);\n",
              "      }\n",
              "    </script>\n",
              "  </div>\n",
              "\n",
              "\n",
              "<div id=\"df-137eaa8d-cc2d-43c3-8ac5-92b12d0f195b\">\n",
              "  <button class=\"colab-df-quickchart\" onclick=\"quickchart('df-137eaa8d-cc2d-43c3-8ac5-92b12d0f195b')\"\n",
              "            title=\"Suggest charts\"\n",
              "            style=\"display:none;\">\n",
              "\n",
              "<svg xmlns=\"http://www.w3.org/2000/svg\" height=\"24px\"viewBox=\"0 0 24 24\"\n",
              "     width=\"24px\">\n",
              "    <g>\n",
              "        <path d=\"M19 3H5c-1.1 0-2 .9-2 2v14c0 1.1.9 2 2 2h14c1.1 0 2-.9 2-2V5c0-1.1-.9-2-2-2zM9 17H7v-7h2v7zm4 0h-2V7h2v10zm4 0h-2v-4h2v4z\"/>\n",
              "    </g>\n",
              "</svg>\n",
              "  </button>\n",
              "\n",
              "<style>\n",
              "  .colab-df-quickchart {\n",
              "      --bg-color: #E8F0FE;\n",
              "      --fill-color: #1967D2;\n",
              "      --hover-bg-color: #E2EBFA;\n",
              "      --hover-fill-color: #174EA6;\n",
              "      --disabled-fill-color: #AAA;\n",
              "      --disabled-bg-color: #DDD;\n",
              "  }\n",
              "\n",
              "  [theme=dark] .colab-df-quickchart {\n",
              "      --bg-color: #3B4455;\n",
              "      --fill-color: #D2E3FC;\n",
              "      --hover-bg-color: #434B5C;\n",
              "      --hover-fill-color: #FFFFFF;\n",
              "      --disabled-bg-color: #3B4455;\n",
              "      --disabled-fill-color: #666;\n",
              "  }\n",
              "\n",
              "  .colab-df-quickchart {\n",
              "    background-color: var(--bg-color);\n",
              "    border: none;\n",
              "    border-radius: 50%;\n",
              "    cursor: pointer;\n",
              "    display: none;\n",
              "    fill: var(--fill-color);\n",
              "    height: 32px;\n",
              "    padding: 0;\n",
              "    width: 32px;\n",
              "  }\n",
              "\n",
              "  .colab-df-quickchart:hover {\n",
              "    background-color: var(--hover-bg-color);\n",
              "    box-shadow: 0 1px 2px rgba(60, 64, 67, 0.3), 0 1px 3px 1px rgba(60, 64, 67, 0.15);\n",
              "    fill: var(--button-hover-fill-color);\n",
              "  }\n",
              "\n",
              "  .colab-df-quickchart-complete:disabled,\n",
              "  .colab-df-quickchart-complete:disabled:hover {\n",
              "    background-color: var(--disabled-bg-color);\n",
              "    fill: var(--disabled-fill-color);\n",
              "    box-shadow: none;\n",
              "  }\n",
              "\n",
              "  .colab-df-spinner {\n",
              "    border: 2px solid var(--fill-color);\n",
              "    border-color: transparent;\n",
              "    border-bottom-color: var(--fill-color);\n",
              "    animation:\n",
              "      spin 1s steps(1) infinite;\n",
              "  }\n",
              "\n",
              "  @keyframes spin {\n",
              "    0% {\n",
              "      border-color: transparent;\n",
              "      border-bottom-color: var(--fill-color);\n",
              "      border-left-color: var(--fill-color);\n",
              "    }\n",
              "    20% {\n",
              "      border-color: transparent;\n",
              "      border-left-color: var(--fill-color);\n",
              "      border-top-color: var(--fill-color);\n",
              "    }\n",
              "    30% {\n",
              "      border-color: transparent;\n",
              "      border-left-color: var(--fill-color);\n",
              "      border-top-color: var(--fill-color);\n",
              "      border-right-color: var(--fill-color);\n",
              "    }\n",
              "    40% {\n",
              "      border-color: transparent;\n",
              "      border-right-color: var(--fill-color);\n",
              "      border-top-color: var(--fill-color);\n",
              "    }\n",
              "    60% {\n",
              "      border-color: transparent;\n",
              "      border-right-color: var(--fill-color);\n",
              "    }\n",
              "    80% {\n",
              "      border-color: transparent;\n",
              "      border-right-color: var(--fill-color);\n",
              "      border-bottom-color: var(--fill-color);\n",
              "    }\n",
              "    90% {\n",
              "      border-color: transparent;\n",
              "      border-bottom-color: var(--fill-color);\n",
              "    }\n",
              "  }\n",
              "</style>\n",
              "\n",
              "  <script>\n",
              "    async function quickchart(key) {\n",
              "      const quickchartButtonEl =\n",
              "        document.querySelector('#' + key + ' button');\n",
              "      quickchartButtonEl.disabled = true;  // To prevent multiple clicks.\n",
              "      quickchartButtonEl.classList.add('colab-df-spinner');\n",
              "      try {\n",
              "        const charts = await google.colab.kernel.invokeFunction(\n",
              "            'suggestCharts', [key], {});\n",
              "      } catch (error) {\n",
              "        console.error('Error during call to suggestCharts:', error);\n",
              "      }\n",
              "      quickchartButtonEl.classList.remove('colab-df-spinner');\n",
              "      quickchartButtonEl.classList.add('colab-df-quickchart-complete');\n",
              "    }\n",
              "    (() => {\n",
              "      let quickchartButtonEl =\n",
              "        document.querySelector('#df-137eaa8d-cc2d-43c3-8ac5-92b12d0f195b button');\n",
              "      quickchartButtonEl.style.display =\n",
              "        google.colab.kernel.accessAllowed ? 'block' : 'none';\n",
              "    })();\n",
              "  </script>\n",
              "</div>\n",
              "    </div>\n",
              "  </div>\n"
            ],
            "application/vnd.google.colaboratory.intrinsic+json": {
              "type": "dataframe",
              "variable_name": "diabetes_by_Glucose",
              "summary": "{\n  \"name\": \"diabetes_by_Glucose\",\n  \"rows\": 3,\n  \"fields\": [\n    {\n      \"column\": \"Age\",\n      \"properties\": {\n        \"dtype\": \"string\",\n        \"num_unique_values\": 3,\n        \"samples\": [\n          \"Middle Adults [40,60)\",\n          \"Old Adults [60,81)\",\n          \"Young Adults [21,40)\"\n        ],\n        \"semantic_type\": \"\",\n        \"description\": \"\"\n      }\n    },\n    {\n      \"column\": \"Not Diabetes\",\n      \"properties\": {\n        \"dtype\": \"number\",\n        \"std\": 204,\n        \"min\": 23,\n        \"max\": 401,\n        \"num_unique_values\": 3,\n        \"samples\": [\n          76,\n          23,\n          401\n        ],\n        \"semantic_type\": \"\",\n        \"description\": \"\"\n      }\n    },\n    {\n      \"column\": \"Diabetes\",\n      \"properties\": {\n        \"dtype\": \"number\",\n        \"std\": 75,\n        \"min\": 9,\n        \"max\": 160,\n        \"num_unique_values\": 3,\n        \"samples\": [\n          99,\n          9,\n          160\n        ],\n        \"semantic_type\": \"\",\n        \"description\": \"\"\n      }\n    }\n  ]\n}"
            }
          },
          "metadata": {},
          "execution_count": 59
        }
      ],
      "source": [
        "diabetes_by_Glucose"
      ]
    },
    {
      "cell_type": "code",
      "execution_count": 60,
      "id": "669942f7",
      "metadata": {
        "execution": {
          "iopub.execute_input": "2022-12-21T01:48:56.000525Z",
          "iopub.status.busy": "2022-12-21T01:48:56.000159Z",
          "iopub.status.idle": "2022-12-21T01:48:56.193191Z",
          "shell.execute_reply": "2022-12-21T01:48:56.192028Z"
        },
        "id": "669942f7",
        "outputId": "7f02fa6c-9787-43c6-f737-8e998a5ca01c",
        "papermill": {
          "duration": 0.209,
          "end_time": "2022-12-21T01:48:56.195258",
          "exception": false,
          "start_time": "2022-12-21T01:48:55.986258",
          "status": "completed"
        },
        "tags": [],
        "colab": {
          "base_uri": "https://localhost:8080/",
          "height": 603
        }
      },
      "outputs": [
        {
          "output_type": "display_data",
          "data": {
            "text/plain": [
              "<Figure size 1500x700 with 1 Axes>"
            ],
            "image/png": "[encoded data removed]"
          },
          "metadata": {}
        }
      ],
      "source": [
        "diabetes_by_Glucose.plot(\n",
        "    kind='bar',\n",
        "    figsize=(15, 7),\n",
        "    title='Diabetes by Age',\n",
        "    grid=True,\n",
        ")\n",
        "\n",
        "mtp.show()"
      ]
    },
    {
      "cell_type": "code",
      "execution_count": 62,
      "id": "82bc7f70",
      "metadata": {
        "execution": {
          "iopub.execute_input": "2022-12-21T01:48:56.223273Z",
          "iopub.status.busy": "2022-12-21T01:48:56.222887Z",
          "iopub.status.idle": "2022-12-21T01:48:56.358711Z",
          "shell.execute_reply": "2022-12-21T01:48:56.357959Z"
        },
        "id": "82bc7f70",
        "outputId": "b5e71af0-0578-4644-c56d-a117034feea1",
        "papermill": {
          "duration": 0.152627,
          "end_time": "2022-12-21T01:48:56.360847",
          "exception": false,
          "start_time": "2022-12-21T01:48:56.208220",
          "status": "completed"
        },
        "tags": [],
        "colab": {
          "base_uri": "https://localhost:8080/",
          "height": 595
        }
      },
      "outputs": [
        {
          "output_type": "stream",
          "name": "stderr",
          "text": [
            "<ipython-input-62-ef4d776632f5>:3: FutureWarning: \n",
            "\n",
            "Passing `palette` without assigning `hue` is deprecated and will be removed in v0.14.0. Assign the `x` variable to `hue` and set `legend=False` for the same effect.\n",
            "\n",
            "  ax=sns.countplot(data_set[\"Outcome\"], palette=\"mako\")\n"
          ]
        },
        {
          "output_type": "display_data",
          "data": {
            "text/plain": [
              "<Figure size 700x500 with 1 Axes>"
            ],
            "image/png": "[encoded data removed]"
          },
          "metadata": {}
        }
      ],
      "source": [
        "mtp.figure(figsize=(7,5))\n",
        "mtp.title(\"Percentage of Diabetes Status (1 Yes, 0 No)\", fontsize = 12,fontweight=\"bold\")\n",
        "ax=sns.countplot(data_set[\"Outcome\"], palette=\"mako\")\n",
        "mtp.xlabel(\"Diabetes Status\", fontsize = 11)\n",
        "mtp.ylabel(\"Count\", fontsize = 11)\n",
        "mtp.xticks(ticks=[0, 1], labels=['Not Diabetes', 'Diabetes'])\n",
        "total=len(data_set)\n",
        "for p in ax.patches:\n",
        "        ax.annotate(f'{100 * p.get_height() / total:.2f}%\\n', (p.get_x() + p.get_width() / 2,p.get_height()),ha='center', va='center',weight='bold')"
      ]
    },
    {
      "cell_type": "markdown",
      "source": [
        "Author: **HusseinAlma**"
      ],
      "metadata": {
        "id": "5Zmv6xKHWrYD"
      },
      "id": "5Zmv6xKHWrYD"
    },
    {
      "cell_type": "markdown",
      "source": [
        "Anggota Kelompok:"
      ],
      "metadata": {
        "id": "ud_nXgh8WqgC"
      },
      "id": "ud_nXgh8WqgC"
    },
    {
      "cell_type": "markdown",
      "source": [
        "1. Roes Byandra Arivieano\n",
        "2. Fathul Arifin\n",
        "3. Juwita Margaretta\n",
        "\n",
        "\n",
        "\n"
      ],
      "metadata": {
        "id": "V09RK35QWPWK"
      },
      "id": "V09RK35QWPWK"
    }
  ],
  "metadata": {
    "kernelspec": {
      "display_name": "Python 3",
      "language": "python",
      "name": "python3"
    },
    "language_info": {
      "codemirror_mode": {
        "name": "ipython",
        "version": 3
      },
      "file_extension": ".py",
      "mimetype": "text/x-python",
      "name": "python",
      "nbconvert_exporter": "python",
      "pygments_lexer": "ipython3",
      "version": "3.7.12"
    },
    "papermill": {
      "default_parameters": {},
      "duration": 12.982052,
      "end_time": "2022-12-21T01:48:57.200481",
      "environment_variables": {},
      "exception": null,
      "input_path": "__notebook__.ipynb",
      "output_path": "__notebook__.ipynb",
      "parameters": {},
      "start_time": "2022-12-21T01:48:44.218429",
      "version": "2.3.4"
    },
    "colab": {
      "provenance": []
    }
  },
  "nbformat": 4,
  "nbformat_minor": 5
}